{
 "cells": [
  {
   "cell_type": "code",
   "execution_count": 4,
   "id": "5d599afa-281a-4d05-883c-b7e8886589f8",
   "metadata": {},
   "outputs": [
    {
     "name": "stderr",
     "output_type": "stream",
     "text": [
      "C:\\Users\\jpvch\\AppData\\Local\\Temp\\ipykernel_7336\\1142893163.py:4: DtypeWarning: Columns (15) have mixed types. Specify dtype option on import or set low_memory=False.\n",
      "  base = pd.read_csv(\"C:\\\\Users\\jpvch\\\\Acidentes_DadosAbertos_20230912.csv\", delimiter = \";\")\n"
     ]
    }
   ],
   "source": [
    "import pandas as pd\n",
    "import datetime as dt\n",
    "\n",
    "base = pd.read_csv(\"C:\\\\Users\\jpvch\\\\Acidentes_DadosAbertos_20230912.csv\", delimiter = \";\")"
   ]
  },
  {
   "cell_type": "code",
   "execution_count": 7,
   "id": "34457d84-2fd2-473e-b4e7-e7e8bc3d03ba",
   "metadata": {},
   "outputs": [
    {
     "data": {
      "text/html": [
       "<div>\n",
       "<style scoped>\n",
       "    .dataframe tbody tr th:only-of-type {\n",
       "        vertical-align: middle;\n",
       "    }\n",
       "\n",
       "    .dataframe tbody tr th {\n",
       "        vertical-align: top;\n",
       "    }\n",
       "\n",
       "    .dataframe thead th {\n",
       "        text-align: right;\n",
       "    }\n",
       "</style>\n",
       "<table border=\"1\" class=\"dataframe\">\n",
       "  <thead>\n",
       "    <tr style=\"text-align: right;\">\n",
       "      <th></th>\n",
       "      <th>num_acidente</th>\n",
       "      <th>chv_localidade</th>\n",
       "      <th>data_acidente</th>\n",
       "      <th>uf_acidente</th>\n",
       "      <th>ano_acidente</th>\n",
       "      <th>mes_acidente</th>\n",
       "      <th>mes_ano_acidente</th>\n",
       "      <th>codigo_ibge</th>\n",
       "      <th>dia_semana</th>\n",
       "      <th>fase_dia</th>\n",
       "      <th>...</th>\n",
       "      <th>lim_velocidade</th>\n",
       "      <th>tp_pista</th>\n",
       "      <th>ind_guardrail</th>\n",
       "      <th>ind_cantcentral</th>\n",
       "      <th>ind_acostamento</th>\n",
       "      <th>qtde_acidente</th>\n",
       "      <th>qtde_acid_com_obitos</th>\n",
       "      <th>qtde_envolvidos</th>\n",
       "      <th>qtde_feridosilesos</th>\n",
       "      <th>qtde_obitos</th>\n",
       "    </tr>\n",
       "  </thead>\n",
       "  <tbody>\n",
       "    <tr>\n",
       "      <th>0</th>\n",
       "      <td>2448623</td>\n",
       "      <td>AC1200401201801</td>\n",
       "      <td>2018-01-24</td>\n",
       "      <td>AC</td>\n",
       "      <td>2018</td>\n",
       "      <td>1</td>\n",
       "      <td>12018</td>\n",
       "      <td>1200401</td>\n",
       "      <td>QUARTA-FEIRA</td>\n",
       "      <td>MANHA</td>\n",
       "      <td>...</td>\n",
       "      <td>NAO INFORMADO</td>\n",
       "      <td>NAO INFORMADO</td>\n",
       "      <td>NAO INFORMADO</td>\n",
       "      <td>NAO INFORMADO</td>\n",
       "      <td>NAO INFORMADO</td>\n",
       "      <td>1</td>\n",
       "      <td>0</td>\n",
       "      <td>3</td>\n",
       "      <td>3</td>\n",
       "      <td>0</td>\n",
       "    </tr>\n",
       "    <tr>\n",
       "      <th>1</th>\n",
       "      <td>3477494</td>\n",
       "      <td>AC1200385201801</td>\n",
       "      <td>2018-01-06</td>\n",
       "      <td>AC</td>\n",
       "      <td>2018</td>\n",
       "      <td>1</td>\n",
       "      <td>12018</td>\n",
       "      <td>1200385</td>\n",
       "      <td>SABADO</td>\n",
       "      <td>TARDE</td>\n",
       "      <td>...</td>\n",
       "      <td>NAO INFORMADO</td>\n",
       "      <td>NAO INFORMADO</td>\n",
       "      <td>NAO INFORMADO</td>\n",
       "      <td>NAO INFORMADO</td>\n",
       "      <td>NAO INFORMADO</td>\n",
       "      <td>1</td>\n",
       "      <td>0</td>\n",
       "      <td>1</td>\n",
       "      <td>1</td>\n",
       "      <td>0</td>\n",
       "    </tr>\n",
       "    <tr>\n",
       "      <th>2</th>\n",
       "      <td>2939219</td>\n",
       "      <td>AC1200401201801</td>\n",
       "      <td>2018-01-04</td>\n",
       "      <td>AC</td>\n",
       "      <td>2018</td>\n",
       "      <td>1</td>\n",
       "      <td>12018</td>\n",
       "      <td>1200401</td>\n",
       "      <td>QUINTA-FEIRA</td>\n",
       "      <td>MANHA</td>\n",
       "      <td>...</td>\n",
       "      <td>NAO INFORMADO</td>\n",
       "      <td>NAO INFORMADO</td>\n",
       "      <td>NAO INFORMADO</td>\n",
       "      <td>NAO INFORMADO</td>\n",
       "      <td>NAO INFORMADO</td>\n",
       "      <td>1</td>\n",
       "      <td>0</td>\n",
       "      <td>2</td>\n",
       "      <td>2</td>\n",
       "      <td>0</td>\n",
       "    </tr>\n",
       "    <tr>\n",
       "      <th>3</th>\n",
       "      <td>17595</td>\n",
       "      <td>AC1200203201801</td>\n",
       "      <td>2018-01-22</td>\n",
       "      <td>AC</td>\n",
       "      <td>2018</td>\n",
       "      <td>1</td>\n",
       "      <td>12018</td>\n",
       "      <td>1200203</td>\n",
       "      <td>SEGUNDA-FEIRA</td>\n",
       "      <td>NOITE</td>\n",
       "      <td>...</td>\n",
       "      <td>NAO INFORMADO</td>\n",
       "      <td>NAO INFORMADO</td>\n",
       "      <td>NAO INFORMADO</td>\n",
       "      <td>NAO INFORMADO</td>\n",
       "      <td>NAO INFORMADO</td>\n",
       "      <td>1</td>\n",
       "      <td>0</td>\n",
       "      <td>2</td>\n",
       "      <td>2</td>\n",
       "      <td>0</td>\n",
       "    </tr>\n",
       "    <tr>\n",
       "      <th>4</th>\n",
       "      <td>58010</td>\n",
       "      <td>AC1200401201801</td>\n",
       "      <td>2018-01-21</td>\n",
       "      <td>AC</td>\n",
       "      <td>2018</td>\n",
       "      <td>1</td>\n",
       "      <td>12018</td>\n",
       "      <td>1200401</td>\n",
       "      <td>DOMINGO</td>\n",
       "      <td>MANHA</td>\n",
       "      <td>...</td>\n",
       "      <td>NAO INFORMADO</td>\n",
       "      <td>NAO INFORMADO</td>\n",
       "      <td>NAO INFORMADO</td>\n",
       "      <td>NAO INFORMADO</td>\n",
       "      <td>NAO INFORMADO</td>\n",
       "      <td>1</td>\n",
       "      <td>0</td>\n",
       "      <td>2</td>\n",
       "      <td>2</td>\n",
       "      <td>0</td>\n",
       "    </tr>\n",
       "  </tbody>\n",
       "</table>\n",
       "<p>5 rows × 35 columns</p>\n",
       "</div>"
      ],
      "text/plain": [
       "   num_acidente   chv_localidade data_acidente uf_acidente  ano_acidente  \\\n",
       "0       2448623  AC1200401201801    2018-01-24          AC          2018   \n",
       "1       3477494  AC1200385201801    2018-01-06          AC          2018   \n",
       "2       2939219  AC1200401201801    2018-01-04          AC          2018   \n",
       "3         17595  AC1200203201801    2018-01-22          AC          2018   \n",
       "4         58010  AC1200401201801    2018-01-21          AC          2018   \n",
       "\n",
       "   mes_acidente  mes_ano_acidente  codigo_ibge     dia_semana fase_dia  ...  \\\n",
       "0             1             12018      1200401   QUARTA-FEIRA    MANHA  ...   \n",
       "1             1             12018      1200385         SABADO    TARDE  ...   \n",
       "2             1             12018      1200401   QUINTA-FEIRA    MANHA  ...   \n",
       "3             1             12018      1200203  SEGUNDA-FEIRA    NOITE  ...   \n",
       "4             1             12018      1200401        DOMINGO    MANHA  ...   \n",
       "\n",
       "  lim_velocidade       tp_pista  ind_guardrail  ind_cantcentral  \\\n",
       "0  NAO INFORMADO  NAO INFORMADO  NAO INFORMADO    NAO INFORMADO   \n",
       "1  NAO INFORMADO  NAO INFORMADO  NAO INFORMADO    NAO INFORMADO   \n",
       "2  NAO INFORMADO  NAO INFORMADO  NAO INFORMADO    NAO INFORMADO   \n",
       "3  NAO INFORMADO  NAO INFORMADO  NAO INFORMADO    NAO INFORMADO   \n",
       "4  NAO INFORMADO  NAO INFORMADO  NAO INFORMADO    NAO INFORMADO   \n",
       "\n",
       "   ind_acostamento qtde_acidente  qtde_acid_com_obitos  qtde_envolvidos  \\\n",
       "0    NAO INFORMADO             1                     0                3   \n",
       "1    NAO INFORMADO             1                     0                1   \n",
       "2    NAO INFORMADO             1                     0                2   \n",
       "3    NAO INFORMADO             1                     0                2   \n",
       "4    NAO INFORMADO             1                     0                2   \n",
       "\n",
       "   qtde_feridosilesos  qtde_obitos  \n",
       "0                   3            0  \n",
       "1                   1            0  \n",
       "2                   2            0  \n",
       "3                   2            0  \n",
       "4                   2            0  \n",
       "\n",
       "[5 rows x 35 columns]"
      ]
     },
     "execution_count": 7,
     "metadata": {},
     "output_type": "execute_result"
    }
   ],
   "source": [
    "base.head()"
   ]
  },
  {
   "cell_type": "code",
   "execution_count": 8,
   "id": "d83b377f-d52a-4ebd-adcd-b246e4eaf257",
   "metadata": {},
   "outputs": [
    {
     "data": {
      "text/html": [
       "<div>\n",
       "<style scoped>\n",
       "    .dataframe tbody tr th:only-of-type {\n",
       "        vertical-align: middle;\n",
       "    }\n",
       "\n",
       "    .dataframe tbody tr th {\n",
       "        vertical-align: top;\n",
       "    }\n",
       "\n",
       "    .dataframe thead th {\n",
       "        text-align: right;\n",
       "    }\n",
       "</style>\n",
       "<table border=\"1\" class=\"dataframe\">\n",
       "  <thead>\n",
       "    <tr style=\"text-align: right;\">\n",
       "      <th></th>\n",
       "      <th>num_acidente</th>\n",
       "      <th>chv_localidade</th>\n",
       "      <th>data_acidente</th>\n",
       "      <th>uf_acidente</th>\n",
       "      <th>ano_acidente</th>\n",
       "      <th>mes_acidente</th>\n",
       "      <th>mes_ano_acidente</th>\n",
       "      <th>codigo_ibge</th>\n",
       "      <th>dia_semana</th>\n",
       "      <th>fase_dia</th>\n",
       "      <th>...</th>\n",
       "      <th>lim_velocidade</th>\n",
       "      <th>tp_pista</th>\n",
       "      <th>ind_guardrail</th>\n",
       "      <th>ind_cantcentral</th>\n",
       "      <th>ind_acostamento</th>\n",
       "      <th>qtde_acidente</th>\n",
       "      <th>qtde_acid_com_obitos</th>\n",
       "      <th>qtde_envolvidos</th>\n",
       "      <th>qtde_feridosilesos</th>\n",
       "      <th>qtde_obitos</th>\n",
       "    </tr>\n",
       "  </thead>\n",
       "  <tbody>\n",
       "    <tr>\n",
       "      <th>4925598</th>\n",
       "      <td>4163385</td>\n",
       "      <td>TO1720853202305</td>\n",
       "      <td>2023-05-03</td>\n",
       "      <td>TO</td>\n",
       "      <td>2023</td>\n",
       "      <td>5</td>\n",
       "      <td>52023</td>\n",
       "      <td>1720853</td>\n",
       "      <td>QUARTA-FEIRA</td>\n",
       "      <td>TARDE</td>\n",
       "      <td>...</td>\n",
       "      <td>NAO INFORMADO</td>\n",
       "      <td>NAO INFORMADO</td>\n",
       "      <td>NAO INFORMADO</td>\n",
       "      <td>NAO INFORMADO</td>\n",
       "      <td>NAO INFORMADO</td>\n",
       "      <td>1</td>\n",
       "      <td>0</td>\n",
       "      <td>2</td>\n",
       "      <td>2</td>\n",
       "      <td>0</td>\n",
       "    </tr>\n",
       "    <tr>\n",
       "      <th>4925599</th>\n",
       "      <td>3233251</td>\n",
       "      <td>TO1713304202305</td>\n",
       "      <td>2023-05-02</td>\n",
       "      <td>TO</td>\n",
       "      <td>2023</td>\n",
       "      <td>5</td>\n",
       "      <td>52023</td>\n",
       "      <td>1713304</td>\n",
       "      <td>TERCA-FEIRA</td>\n",
       "      <td>TARDE</td>\n",
       "      <td>...</td>\n",
       "      <td>NAO INFORMADO</td>\n",
       "      <td>NAO INFORMADO</td>\n",
       "      <td>NAO INFORMADO</td>\n",
       "      <td>NAO INFORMADO</td>\n",
       "      <td>NAO INFORMADO</td>\n",
       "      <td>1</td>\n",
       "      <td>0</td>\n",
       "      <td>2</td>\n",
       "      <td>2</td>\n",
       "      <td>0</td>\n",
       "    </tr>\n",
       "    <tr>\n",
       "      <th>4925600</th>\n",
       "      <td>922960</td>\n",
       "      <td>TO1715754202305</td>\n",
       "      <td>2023-05-08</td>\n",
       "      <td>TO</td>\n",
       "      <td>2023</td>\n",
       "      <td>5</td>\n",
       "      <td>52023</td>\n",
       "      <td>1715754</td>\n",
       "      <td>SEGUNDA-FEIRA</td>\n",
       "      <td>TARDE</td>\n",
       "      <td>...</td>\n",
       "      <td>NAO INFORMADO</td>\n",
       "      <td>NAO INFORMADO</td>\n",
       "      <td>NAO INFORMADO</td>\n",
       "      <td>NAO INFORMADO</td>\n",
       "      <td>NAO INFORMADO</td>\n",
       "      <td>1</td>\n",
       "      <td>0</td>\n",
       "      <td>2</td>\n",
       "      <td>2</td>\n",
       "      <td>0</td>\n",
       "    </tr>\n",
       "    <tr>\n",
       "      <th>4925601</th>\n",
       "      <td>3435150</td>\n",
       "      <td>TO1720804202305</td>\n",
       "      <td>2023-05-06</td>\n",
       "      <td>TO</td>\n",
       "      <td>2023</td>\n",
       "      <td>5</td>\n",
       "      <td>52023</td>\n",
       "      <td>1720804</td>\n",
       "      <td>SABADO</td>\n",
       "      <td>NOITE</td>\n",
       "      <td>...</td>\n",
       "      <td>NAO INFORMADO</td>\n",
       "      <td>NAO INFORMADO</td>\n",
       "      <td>NAO INFORMADO</td>\n",
       "      <td>NAO INFORMADO</td>\n",
       "      <td>NAO INFORMADO</td>\n",
       "      <td>1</td>\n",
       "      <td>0</td>\n",
       "      <td>3</td>\n",
       "      <td>3</td>\n",
       "      <td>0</td>\n",
       "    </tr>\n",
       "    <tr>\n",
       "      <th>4925602</th>\n",
       "      <td>4441387</td>\n",
       "      <td>TO1709500202305</td>\n",
       "      <td>2023-05-16</td>\n",
       "      <td>TO</td>\n",
       "      <td>2023</td>\n",
       "      <td>5</td>\n",
       "      <td>52023</td>\n",
       "      <td>1709500</td>\n",
       "      <td>TERCA-FEIRA</td>\n",
       "      <td>NOITE</td>\n",
       "      <td>...</td>\n",
       "      <td>NAO INFORMADO</td>\n",
       "      <td>NAO INFORMADO</td>\n",
       "      <td>NAO INFORMADO</td>\n",
       "      <td>NAO INFORMADO</td>\n",
       "      <td>NAO INFORMADO</td>\n",
       "      <td>1</td>\n",
       "      <td>0</td>\n",
       "      <td>2</td>\n",
       "      <td>2</td>\n",
       "      <td>0</td>\n",
       "    </tr>\n",
       "  </tbody>\n",
       "</table>\n",
       "<p>5 rows × 35 columns</p>\n",
       "</div>"
      ],
      "text/plain": [
       "         num_acidente   chv_localidade data_acidente uf_acidente  \\\n",
       "4925598       4163385  TO1720853202305    2023-05-03          TO   \n",
       "4925599       3233251  TO1713304202305    2023-05-02          TO   \n",
       "4925600        922960  TO1715754202305    2023-05-08          TO   \n",
       "4925601       3435150  TO1720804202305    2023-05-06          TO   \n",
       "4925602       4441387  TO1709500202305    2023-05-16          TO   \n",
       "\n",
       "         ano_acidente  mes_acidente  mes_ano_acidente  codigo_ibge  \\\n",
       "4925598          2023             5             52023      1720853   \n",
       "4925599          2023             5             52023      1713304   \n",
       "4925600          2023             5             52023      1715754   \n",
       "4925601          2023             5             52023      1720804   \n",
       "4925602          2023             5             52023      1709500   \n",
       "\n",
       "            dia_semana fase_dia  ... lim_velocidade       tp_pista  \\\n",
       "4925598   QUARTA-FEIRA    TARDE  ...  NAO INFORMADO  NAO INFORMADO   \n",
       "4925599    TERCA-FEIRA    TARDE  ...  NAO INFORMADO  NAO INFORMADO   \n",
       "4925600  SEGUNDA-FEIRA    TARDE  ...  NAO INFORMADO  NAO INFORMADO   \n",
       "4925601         SABADO    NOITE  ...  NAO INFORMADO  NAO INFORMADO   \n",
       "4925602    TERCA-FEIRA    NOITE  ...  NAO INFORMADO  NAO INFORMADO   \n",
       "\n",
       "         ind_guardrail  ind_cantcentral  ind_acostamento qtde_acidente  \\\n",
       "4925598  NAO INFORMADO    NAO INFORMADO    NAO INFORMADO             1   \n",
       "4925599  NAO INFORMADO    NAO INFORMADO    NAO INFORMADO             1   \n",
       "4925600  NAO INFORMADO    NAO INFORMADO    NAO INFORMADO             1   \n",
       "4925601  NAO INFORMADO    NAO INFORMADO    NAO INFORMADO             1   \n",
       "4925602  NAO INFORMADO    NAO INFORMADO    NAO INFORMADO             1   \n",
       "\n",
       "         qtde_acid_com_obitos  qtde_envolvidos  qtde_feridosilesos  \\\n",
       "4925598                     0                2                   2   \n",
       "4925599                     0                2                   2   \n",
       "4925600                     0                2                   2   \n",
       "4925601                     0                3                   3   \n",
       "4925602                     0                2                   2   \n",
       "\n",
       "         qtde_obitos  \n",
       "4925598            0  \n",
       "4925599            0  \n",
       "4925600            0  \n",
       "4925601            0  \n",
       "4925602            0  \n",
       "\n",
       "[5 rows x 35 columns]"
      ]
     },
     "execution_count": 8,
     "metadata": {},
     "output_type": "execute_result"
    }
   ],
   "source": [
    "base.tail()"
   ]
  },
  {
   "cell_type": "code",
   "execution_count": 9,
   "id": "9abd259c-413b-4544-a9bf-3463cb27aa1a",
   "metadata": {},
   "outputs": [
    {
     "data": {
      "text/plain": [
       "(4925603, 35)"
      ]
     },
     "execution_count": 9,
     "metadata": {},
     "output_type": "execute_result"
    }
   ],
   "source": [
    "base.shape"
   ]
  },
  {
   "cell_type": "code",
   "execution_count": 10,
   "id": "f74b0eb4-1c52-43f6-bda4-1c3f84bf9efb",
   "metadata": {},
   "outputs": [
    {
     "name": "stdout",
     "output_type": "stream",
     "text": [
      "2018-01-01\n"
     ]
    }
   ],
   "source": [
    "inicio = pd.to_datetime(base['data_acidente']).dt.date.min()\n",
    "print(inicio)"
   ]
  },
  {
   "cell_type": "code",
   "execution_count": 12,
   "id": "ec777b73-7d47-4b76-8f2a-a1d9da57bae4",
   "metadata": {},
   "outputs": [
    {
     "name": "stdout",
     "output_type": "stream",
     "text": [
      "2023-05-31\n"
     ]
    }
   ],
   "source": [
    "fim = pd.to_datetime(base['data_acidente']).dt.date.max()\n",
    "print(fim)"
   ]
  },
  {
   "cell_type": "code",
   "execution_count": 13,
   "id": "e8bed971-035d-4305-b46c-201344528e1b",
   "metadata": {},
   "outputs": [
    {
     "name": "stdout",
     "output_type": "stream",
     "text": [
      "<class 'pandas.core.frame.DataFrame'>\n",
      "RangeIndex: 4925603 entries, 0 to 4925602\n",
      "Data columns (total 35 columns):\n",
      " #   Column                Dtype  \n",
      "---  ------                -----  \n",
      " 0   num_acidente          int64  \n",
      " 1   chv_localidade        object \n",
      " 2   data_acidente         object \n",
      " 3   uf_acidente           object \n",
      " 4   ano_acidente          int64  \n",
      " 5   mes_acidente          int64  \n",
      " 6   mes_ano_acidente      int64  \n",
      " 7   codigo_ibge           int64  \n",
      " 8   dia_semana            object \n",
      " 9   fase_dia              object \n",
      " 10  tp_acidente           object \n",
      " 11  cond_meteorologica    object \n",
      " 12  end_acidente          object \n",
      " 13  num_end_acidente      int64  \n",
      " 14  cep_acidente          int64  \n",
      " 15  bairro_acidente       object \n",
      " 16  km_via_acidente       int64  \n",
      " 17  latitude_acidente     float64\n",
      " 18  longitude_acidente    float64\n",
      " 19  hora_acidente         int64  \n",
      " 20  tp_rodovia            object \n",
      " 21  cond_pista            object \n",
      " 22  tp_cruzamento         object \n",
      " 23  tp_pavimento          object \n",
      " 24  tp_curva              object \n",
      " 25  lim_velocidade        object \n",
      " 26  tp_pista              object \n",
      " 27  ind_guardrail         object \n",
      " 28  ind_cantcentral       object \n",
      " 29  ind_acostamento       object \n",
      " 30  qtde_acidente         int64  \n",
      " 31  qtde_acid_com_obitos  int64  \n",
      " 32  qtde_envolvidos       int64  \n",
      " 33  qtde_feridosilesos    int64  \n",
      " 34  qtde_obitos           int64  \n",
      "dtypes: float64(2), int64(14), object(19)\n",
      "memory usage: 1.3+ GB\n"
     ]
    }
   ],
   "source": [
    "base.info()"
   ]
  },
  {
   "cell_type": "code",
   "execution_count": 14,
   "id": "55afac6a-ca70-4d47-8560-8badeb9da109",
   "metadata": {},
   "outputs": [
    {
     "data": {
      "text/plain": [
       "num_acidente                  0\n",
       "chv_localidade                0\n",
       "data_acidente                 0\n",
       "uf_acidente                   0\n",
       "ano_acidente                  0\n",
       "mes_acidente                  0\n",
       "mes_ano_acidente              0\n",
       "codigo_ibge                   0\n",
       "dia_semana                    0\n",
       "fase_dia                      0\n",
       "tp_acidente                   0\n",
       "cond_meteorologica            0\n",
       "end_acidente             157888\n",
       "num_end_acidente              0\n",
       "cep_acidente                  0\n",
       "bairro_acidente         1933910\n",
       "km_via_acidente               0\n",
       "latitude_acidente       3639454\n",
       "longitude_acidente      3639589\n",
       "hora_acidente                 0\n",
       "tp_rodovia                    0\n",
       "cond_pista                    0\n",
       "tp_cruzamento                 0\n",
       "tp_pavimento                  0\n",
       "tp_curva                      0\n",
       "lim_velocidade                0\n",
       "tp_pista                      0\n",
       "ind_guardrail                 0\n",
       "ind_cantcentral               0\n",
       "ind_acostamento               0\n",
       "qtde_acidente                 0\n",
       "qtde_acid_com_obitos          0\n",
       "qtde_envolvidos               0\n",
       "qtde_feridosilesos            0\n",
       "qtde_obitos                   0\n",
       "dtype: int64"
      ]
     },
     "execution_count": 14,
     "metadata": {},
     "output_type": "execute_result"
    }
   ],
   "source": [
    "base.isnull().sum()"
   ]
  },
  {
   "cell_type": "code",
   "execution_count": 24,
   "id": "04fb604b-7951-4cc2-b3f2-05da58e09229",
   "metadata": {
    "scrolled": true
   },
   "outputs": [
    {
     "name": "stdout",
     "output_type": "stream",
     "text": [
      "       ano_acidente  mes_acidente  hora_acidente  qtde_acidente  \\\n",
      "count  4.925603e+06  4.925603e+06   4.925603e+06      4925603.0   \n",
      "mean   2.020274e+03  6.489344e+00   1.479713e+05            1.0   \n",
      "std    1.484895e+00  3.465866e+00   1.126696e+05            0.0   \n",
      "min    2.018000e+03  1.000000e+00   0.000000e+00            1.0   \n",
      "25%    2.019000e+03  3.000000e+00   1.000000e+05            1.0   \n",
      "50%    2.020000e+03  6.000000e+00   1.430000e+05            1.0   \n",
      "75%    2.022000e+03  1.000000e+01   1.820000e+05            1.0   \n",
      "max    2.023000e+03  1.200000e+01   9.999990e+05            1.0   \n",
      "\n",
      "       qtde_acid_com_obitos  qtde_envolvidos  qtde_feridosilesos   qtde_obitos  \n",
      "count          4.925603e+06     4.925603e+06        4.925603e+06  4.925603e+06  \n",
      "mean           2.257815e-02     1.589358e+00        1.564654e+00  2.470439e-02  \n",
      "std            1.485543e-01     9.791111e-01        9.847560e-01  1.738893e-01  \n",
      "min            0.000000e+00     0.000000e+00        0.000000e+00  0.000000e+00  \n",
      "25%            0.000000e+00     1.000000e+00        1.000000e+00  0.000000e+00  \n",
      "50%            0.000000e+00     2.000000e+00        2.000000e+00  0.000000e+00  \n",
      "75%            0.000000e+00     2.000000e+00        2.000000e+00  0.000000e+00  \n",
      "max            1.000000e+00     6.700000e+01        6.700000e+01  4.200000e+01  \n"
     ]
    }
   ],
   "source": [
    "colunas_categoricas = ['ano_acidente', 'mes_acidente', 'hora_acidente', 'qtde_acidente', 'qtde_acid_com_obitos', 'qtde_envolvidos', 'qtde_feridosilesos', 'qtde_obitos']\n",
    "estatisticas = base[colunas_categoricas].describe()\n",
    "print(estatisticas)"
   ]
  },
  {
   "cell_type": "code",
   "execution_count": 26,
   "id": "ff1e4b7d-eb0f-415d-b8b0-c87a728c2acb",
   "metadata": {},
   "outputs": [
    {
     "data": {
      "text/plain": [
       "ano_acidente\n",
       "2022    1023173\n",
       "2021    1012768\n",
       "2019    1007653\n",
       "2020     912288\n",
       "2018     721879\n",
       "2023     247842\n",
       "Name: count, dtype: int64"
      ]
     },
     "execution_count": 26,
     "metadata": {},
     "output_type": "execute_result"
    }
   ],
   "source": [
    "base.ano_acidente.value_counts()"
   ]
  },
  {
   "cell_type": "code",
   "execution_count": 27,
   "id": "69dcc417-1831-49a4-aff5-b0c3ca85fd70",
   "metadata": {},
   "outputs": [
    {
     "data": {
      "text/plain": [
       "mes_acidente\n",
       "5     434032\n",
       "3     427084\n",
       "10    424952\n",
       "2     424093\n",
       "12    411459\n",
       "11    411268\n",
       "8     409887\n",
       "1     406068\n",
       "9     401959\n",
       "4     396594\n",
       "7     394947\n",
       "6     383260\n",
       "Name: count, dtype: int64"
      ]
     },
     "execution_count": 27,
     "metadata": {},
     "output_type": "execute_result"
    }
   ],
   "source": [
    "base.mes_acidente.value_counts()"
   ]
  },
  {
   "cell_type": "code",
   "execution_count": 28,
   "id": "cf759963-6a11-4498-a11c-c2a3d29686c1",
   "metadata": {},
   "outputs": [
    {
     "data": {
      "text/plain": [
       "dia_semana\n",
       "SEXTA-FEIRA      800737\n",
       "SABADO           744681\n",
       "SEGUNDA-FEIRA    712895\n",
       "QUINTA-FEIRA     699731\n",
       "QUARTA-FEIRA     690943\n",
       "TERCA-FEIRA      678063\n",
       "DOMINGO          598553\n",
       "Name: count, dtype: int64"
      ]
     },
     "execution_count": 28,
     "metadata": {},
     "output_type": "execute_result"
    }
   ],
   "source": [
    "base.dia_semana.value_counts()"
   ]
  },
  {
   "cell_type": "code",
   "execution_count": 29,
   "id": "c1c7302a-1875-497d-88cc-e7ce75177bfb",
   "metadata": {},
   "outputs": [
    {
     "data": {
      "text/plain": [
       "fase_dia\n",
       "TARDE            1833981\n",
       "MANHA            1371277\n",
       "NOITE            1335740\n",
       "MADRUGADA         330614\n",
       "NAO INFORMADO      50657\n",
       "DESCONHECIDO        3334\n",
       "Name: count, dtype: int64"
      ]
     },
     "execution_count": 29,
     "metadata": {},
     "output_type": "execute_result"
    }
   ],
   "source": [
    "base.fase_dia.value_counts()"
   ]
  },
  {
   "cell_type": "code",
   "execution_count": 30,
   "id": "597fabcc-03df-4ccb-aea1-1d374d3fb9b8",
   "metadata": {},
   "outputs": [
    {
     "data": {
      "text/plain": [
       "cond_meteorologica\n",
       "NAO INFORMADO                2562782\n",
       "CLARO                         976279\n",
       "DESCONHECIDAS                 841239\n",
       "OUTRAS CONDICOES              432311\n",
       "CHUVA                          66855\n",
       "NUBLADO                        27167\n",
       "GAROACHUVISCO                  15341\n",
       "NEVOEIRO  NEVOA OU FUMACA       3507\n",
       "VENTOS FORTES                    102\n",
       "NEVE                              13\n",
       "GRANIZO                            7\n",
       "Name: count, dtype: int64"
      ]
     },
     "execution_count": 30,
     "metadata": {},
     "output_type": "execute_result"
    }
   ],
   "source": [
    "base.cond_meteorologica.value_counts()"
   ]
  },
  {
   "cell_type": "code",
   "execution_count": 31,
   "id": "c994db1c-8a62-42a7-a234-e1d6db354de6",
   "metadata": {},
   "outputs": [
    {
     "data": {
      "text/plain": [
       "hora_acidente\n",
       "0         70930\n",
       "170000    67363\n",
       "180000    66877\n",
       "160000    65122\n",
       "999999    64661\n",
       "          ...  \n",
       "11457         1\n",
       "41458         1\n",
       "35412         1\n",
       "22430         1\n",
       "51709         1\n",
       "Name: count, Length: 83923, dtype: int64"
      ]
     },
     "execution_count": 31,
     "metadata": {},
     "output_type": "execute_result"
    }
   ],
   "source": [
    "base.hora_acidente.value_counts()"
   ]
  },
  {
   "cell_type": "code",
   "execution_count": 32,
   "id": "cd13e633-724c-4ac9-966c-184bec566c97",
   "metadata": {},
   "outputs": [
    {
     "data": {
      "text/plain": [
       "cond_pista\n",
       "NAO INFORMADO             3478376\n",
       "SECA                       979776\n",
       "DESCONHECIDO               344363\n",
       "MOLHADA                    115158\n",
       "ESCORREGADIA                 3402\n",
       "OBSTRUIDA                    1718\n",
       "COM BURACO                   1520\n",
       "COM LAMA                      870\n",
       "COM MATERIAL GRANULADO        420\n",
       "Name: count, dtype: int64"
      ]
     },
     "execution_count": 32,
     "metadata": {},
     "output_type": "execute_result"
    }
   ],
   "source": [
    "base.cond_pista.value_counts()"
   ]
  },
  {
   "cell_type": "code",
   "execution_count": 33,
   "id": "55abedfc-5032-4e72-84d7-4423bff0efca",
   "metadata": {},
   "outputs": [
    {
     "data": {
      "text/plain": [
       "tp_pavimento\n",
       "NAO INFORMADO     3278653\n",
       "ASFALTO           1309041\n",
       "DESCONHECIDO       291176\n",
       "TERRA               18961\n",
       "PARALELEPIPEDO      14669\n",
       "CONCRETO             7339\n",
       "CASCALHO             5764\n",
       "Name: count, dtype: int64"
      ]
     },
     "execution_count": 33,
     "metadata": {},
     "output_type": "execute_result"
    }
   ],
   "source": [
    "base.tp_pavimento.value_counts()"
   ]
  },
  {
   "cell_type": "code",
   "execution_count": 34,
   "id": "6142e54d-1f0e-40d5-8052-7d07f6223956",
   "metadata": {},
   "outputs": [
    {
     "data": {
      "text/plain": [
       "qtde_acidente\n",
       "1    4925603\n",
       "Name: count, dtype: int64"
      ]
     },
     "execution_count": 34,
     "metadata": {},
     "output_type": "execute_result"
    }
   ],
   "source": [
    "base.qtde_acidente.value_counts()"
   ]
  },
  {
   "cell_type": "code",
   "execution_count": 35,
   "id": "856d033f-86ac-409b-b02d-19d66e352ef1",
   "metadata": {},
   "outputs": [
    {
     "data": {
      "text/plain": [
       "qtde_acid_com_obitos\n",
       "0    4814392\n",
       "1     111211\n",
       "Name: count, dtype: int64"
      ]
     },
     "execution_count": 35,
     "metadata": {},
     "output_type": "execute_result"
    }
   ],
   "source": [
    "base.qtde_acid_com_obitos.value_counts()"
   ]
  },
  {
   "cell_type": "code",
   "execution_count": 64,
   "id": "158b4795-32d2-4261-a6dc-c18a98848058",
   "metadata": {},
   "outputs": [
    {
     "data": {
      "text/plain": [
       "qtde_envolvidos\n",
       "1     1977629\n",
       "2     1948397\n",
       "0      430261\n",
       "3      417877\n",
       "4      101282\n",
       "5       30664\n",
       "6       10806\n",
       "7        4249\n",
       "8        1882\n",
       "9         919\n",
       "10        500\n",
       "11        234\n",
       "12        200\n",
       "13        124\n",
       "14        110\n",
       "15         59\n",
       "16         57\n",
       "17         44\n",
       "19         37\n",
       "20         32\n",
       "18         31\n",
       "21         20\n",
       "22         18\n",
       "25         15\n",
       "23         14\n",
       "27         12\n",
       "24         11\n",
       "31         10\n",
       "26          8\n",
       "42          8\n",
       "37          8\n",
       "30          7\n",
       "28          7\n",
       "34          7\n",
       "29          6\n",
       "35          6\n",
       "40          5\n",
       "38          5\n",
       "32          5\n",
       "41          4\n",
       "46          4\n",
       "33          3\n",
       "39          3\n",
       "44          3\n",
       "56          2\n",
       "36          2\n",
       "45          2\n",
       "61          2\n",
       "50          1\n",
       "48          1\n",
       "58          1\n",
       "54          1\n",
       "43          1\n",
       "52          1\n",
       "67          1\n",
       "55          1\n",
       "51          1\n",
       "66          1\n",
       "53          1\n",
       "49          1\n",
       "Name: count, dtype: int64"
      ]
     },
     "execution_count": 64,
     "metadata": {},
     "output_type": "execute_result"
    }
   ],
   "source": [
    "base.qtde_envolvidos.value_counts()"
   ]
  },
  {
   "cell_type": "code",
   "execution_count": 36,
   "id": "61bb0399-4588-4b89-a996-611da3b6293b",
   "metadata": {},
   "outputs": [
    {
     "data": {
      "text/plain": [
       "qtde_feridosilesos\n",
       "1     1932846\n",
       "2     1931551\n",
       "0      502384\n",
       "3      412609\n",
       "4       98880\n",
       "5       29396\n",
       "6       10024\n",
       "7        3909\n",
       "8        1706\n",
       "9         824\n",
       "10        428\n",
       "11        204\n",
       "12        173\n",
       "13        119\n",
       "14         99\n",
       "15         61\n",
       "16         57\n",
       "17         37\n",
       "19         37\n",
       "18         34\n",
       "20         28\n",
       "21         21\n",
       "23         17\n",
       "22         14\n",
       "25         14\n",
       "37         12\n",
       "27         10\n",
       "24          9\n",
       "26          9\n",
       "28          9\n",
       "31          8\n",
       "35          7\n",
       "40          6\n",
       "42          5\n",
       "32          5\n",
       "29          5\n",
       "34          5\n",
       "33          4\n",
       "46          4\n",
       "38          4\n",
       "44          3\n",
       "41          3\n",
       "49          3\n",
       "30          3\n",
       "54          2\n",
       "39          2\n",
       "36          2\n",
       "51          2\n",
       "58          1\n",
       "55          1\n",
       "45          1\n",
       "53          1\n",
       "48          1\n",
       "67          1\n",
       "62          1\n",
       "60          1\n",
       "61          1\n",
       "Name: count, dtype: int64"
      ]
     },
     "execution_count": 36,
     "metadata": {},
     "output_type": "execute_result"
    }
   ],
   "source": [
    "base.qtde_feridosilesos.value_counts()"
   ]
  },
  {
   "cell_type": "code",
   "execution_count": 37,
   "id": "1e1bec7b-2a14-4c57-a534-03d5e14f8318",
   "metadata": {},
   "outputs": [
    {
     "data": {
      "text/plain": [
       "qtde_obitos\n",
       "0     4814392\n",
       "1      103074\n",
       "2        6674\n",
       "3         966\n",
       "4         308\n",
       "5         118\n",
       "6          37\n",
       "7          18\n",
       "8           6\n",
       "10          3\n",
       "12          2\n",
       "15          2\n",
       "11          1\n",
       "9           1\n",
       "42          1\n",
       "Name: count, dtype: int64"
      ]
     },
     "execution_count": 37,
     "metadata": {},
     "output_type": "execute_result"
    }
   ],
   "source": [
    "base.qtde_obitos.value_counts()"
   ]
  },
  {
   "cell_type": "code",
   "execution_count": 39,
   "id": "68307a4b-e154-418e-89a6-1f0dff3bf102",
   "metadata": {},
   "outputs": [
    {
     "data": {
      "text/plain": [
       "uf_acidente\n",
       "MG    1369590\n",
       "SP     754456\n",
       "SC     632685\n",
       "PR     485239\n",
       "GO     467188\n",
       "ES     200232\n",
       "DF     176100\n",
       "PA     144479\n",
       "MS      99570\n",
       "RJ      95805\n",
       "CE      75143\n",
       "BA      71324\n",
       "PE      69654\n",
       "RO      57796\n",
       "PI      55981\n",
       "RN      28059\n",
       "MT      25395\n",
       "TO      23193\n",
       "AC      20812\n",
       "MA      15251\n",
       "RR      13254\n",
       "PB      11323\n",
       "AP       7437\n",
       "RS       7310\n",
       "AL       7208\n",
       "AM       6763\n",
       "SE       4356\n",
       "Name: count, dtype: int64"
      ]
     },
     "execution_count": 39,
     "metadata": {},
     "output_type": "execute_result"
    }
   ],
   "source": [
    "base.uf_acidente.value_counts()"
   ]
  }
 ],
 "metadata": {
  "kernelspec": {
   "display_name": "Python 3 (ipykernel)",
   "language": "python",
   "name": "python3"
  },
  "language_info": {
   "codemirror_mode": {
    "name": "ipython",
    "version": 3
   },
   "file_extension": ".py",
   "mimetype": "text/x-python",
   "name": "python",
   "nbconvert_exporter": "python",
   "pygments_lexer": "ipython3",
   "version": "3.11.7"
  }
 },
 "nbformat": 4,
 "nbformat_minor": 5
}
