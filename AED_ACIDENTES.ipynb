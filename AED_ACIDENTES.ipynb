{
 "cells": [
  {
   "cell_type": "code",
   "execution_count": 1,
   "id": "5d599afa-281a-4d05-883c-b7e8886589f8",
   "metadata": {},
   "outputs": [
    {
     "name": "stderr",
     "output_type": "stream",
     "text": [
      "C:\\Users\\jpvch\\AppData\\Local\\Temp\\ipykernel_12712\\1142893163.py:4: DtypeWarning: Columns (15) have mixed types. Specify dtype option on import or set low_memory=False.\n",
      "  base = pd.read_csv(\"C:\\\\Users\\jpvch\\\\Acidentes_DadosAbertos_20230912.csv\", delimiter = \";\")\n"
     ]
    }
   ],
   "source": [
    "import pandas as pd\n",
    "import datetime as dt\n",
    "\n",
    "base = pd.read_csv(\"C:\\\\Users\\jpvch\\\\Acidentes_DadosAbertos_20230912.csv\", delimiter = \";\")"
   ]
  },
  {
   "cell_type": "markdown",
   "id": "d67319cd",
   "metadata": {},
   "source": [
    "Importei as bibliotecas pandas e datetime, e as chamei de pd e dt, respectivamente. \n",
    "Comecei carregando os dados da base de dados.\n",
    "Utilizei o método pd.read_csv() para ler o arquivo e armazená-lo em um DataFrame chamado base."
   ]
  },
  {
   "cell_type": "code",
   "execution_count": 2,
   "id": "34457d84-2fd2-473e-b4e7-e7e8bc3d03ba",
   "metadata": {},
   "outputs": [
    {
     "data": {
      "text/html": [
       "<div>\n",
       "<style scoped>\n",
       "    .dataframe tbody tr th:only-of-type {\n",
       "        vertical-align: middle;\n",
       "    }\n",
       "\n",
       "    .dataframe tbody tr th {\n",
       "        vertical-align: top;\n",
       "    }\n",
       "\n",
       "    .dataframe thead th {\n",
       "        text-align: right;\n",
       "    }\n",
       "</style>\n",
       "<table border=\"1\" class=\"dataframe\">\n",
       "  <thead>\n",
       "    <tr style=\"text-align: right;\">\n",
       "      <th></th>\n",
       "      <th>num_acidente</th>\n",
       "      <th>chv_localidade</th>\n",
       "      <th>data_acidente</th>\n",
       "      <th>uf_acidente</th>\n",
       "      <th>ano_acidente</th>\n",
       "      <th>mes_acidente</th>\n",
       "      <th>mes_ano_acidente</th>\n",
       "      <th>codigo_ibge</th>\n",
       "      <th>dia_semana</th>\n",
       "      <th>fase_dia</th>\n",
       "      <th>...</th>\n",
       "      <th>lim_velocidade</th>\n",
       "      <th>tp_pista</th>\n",
       "      <th>ind_guardrail</th>\n",
       "      <th>ind_cantcentral</th>\n",
       "      <th>ind_acostamento</th>\n",
       "      <th>qtde_acidente</th>\n",
       "      <th>qtde_acid_com_obitos</th>\n",
       "      <th>qtde_envolvidos</th>\n",
       "      <th>qtde_feridosilesos</th>\n",
       "      <th>qtde_obitos</th>\n",
       "    </tr>\n",
       "  </thead>\n",
       "  <tbody>\n",
       "    <tr>\n",
       "      <th>0</th>\n",
       "      <td>2448623</td>\n",
       "      <td>AC1200401201801</td>\n",
       "      <td>2018-01-24</td>\n",
       "      <td>AC</td>\n",
       "      <td>2018</td>\n",
       "      <td>1</td>\n",
       "      <td>12018</td>\n",
       "      <td>1200401</td>\n",
       "      <td>QUARTA-FEIRA</td>\n",
       "      <td>MANHA</td>\n",
       "      <td>...</td>\n",
       "      <td>NAO INFORMADO</td>\n",
       "      <td>NAO INFORMADO</td>\n",
       "      <td>NAO INFORMADO</td>\n",
       "      <td>NAO INFORMADO</td>\n",
       "      <td>NAO INFORMADO</td>\n",
       "      <td>1</td>\n",
       "      <td>0</td>\n",
       "      <td>3</td>\n",
       "      <td>3</td>\n",
       "      <td>0</td>\n",
       "    </tr>\n",
       "    <tr>\n",
       "      <th>1</th>\n",
       "      <td>3477494</td>\n",
       "      <td>AC1200385201801</td>\n",
       "      <td>2018-01-06</td>\n",
       "      <td>AC</td>\n",
       "      <td>2018</td>\n",
       "      <td>1</td>\n",
       "      <td>12018</td>\n",
       "      <td>1200385</td>\n",
       "      <td>SABADO</td>\n",
       "      <td>TARDE</td>\n",
       "      <td>...</td>\n",
       "      <td>NAO INFORMADO</td>\n",
       "      <td>NAO INFORMADO</td>\n",
       "      <td>NAO INFORMADO</td>\n",
       "      <td>NAO INFORMADO</td>\n",
       "      <td>NAO INFORMADO</td>\n",
       "      <td>1</td>\n",
       "      <td>0</td>\n",
       "      <td>1</td>\n",
       "      <td>1</td>\n",
       "      <td>0</td>\n",
       "    </tr>\n",
       "    <tr>\n",
       "      <th>2</th>\n",
       "      <td>2939219</td>\n",
       "      <td>AC1200401201801</td>\n",
       "      <td>2018-01-04</td>\n",
       "      <td>AC</td>\n",
       "      <td>2018</td>\n",
       "      <td>1</td>\n",
       "      <td>12018</td>\n",
       "      <td>1200401</td>\n",
       "      <td>QUINTA-FEIRA</td>\n",
       "      <td>MANHA</td>\n",
       "      <td>...</td>\n",
       "      <td>NAO INFORMADO</td>\n",
       "      <td>NAO INFORMADO</td>\n",
       "      <td>NAO INFORMADO</td>\n",
       "      <td>NAO INFORMADO</td>\n",
       "      <td>NAO INFORMADO</td>\n",
       "      <td>1</td>\n",
       "      <td>0</td>\n",
       "      <td>2</td>\n",
       "      <td>2</td>\n",
       "      <td>0</td>\n",
       "    </tr>\n",
       "    <tr>\n",
       "      <th>3</th>\n",
       "      <td>17595</td>\n",
       "      <td>AC1200203201801</td>\n",
       "      <td>2018-01-22</td>\n",
       "      <td>AC</td>\n",
       "      <td>2018</td>\n",
       "      <td>1</td>\n",
       "      <td>12018</td>\n",
       "      <td>1200203</td>\n",
       "      <td>SEGUNDA-FEIRA</td>\n",
       "      <td>NOITE</td>\n",
       "      <td>...</td>\n",
       "      <td>NAO INFORMADO</td>\n",
       "      <td>NAO INFORMADO</td>\n",
       "      <td>NAO INFORMADO</td>\n",
       "      <td>NAO INFORMADO</td>\n",
       "      <td>NAO INFORMADO</td>\n",
       "      <td>1</td>\n",
       "      <td>0</td>\n",
       "      <td>2</td>\n",
       "      <td>2</td>\n",
       "      <td>0</td>\n",
       "    </tr>\n",
       "    <tr>\n",
       "      <th>4</th>\n",
       "      <td>58010</td>\n",
       "      <td>AC1200401201801</td>\n",
       "      <td>2018-01-21</td>\n",
       "      <td>AC</td>\n",
       "      <td>2018</td>\n",
       "      <td>1</td>\n",
       "      <td>12018</td>\n",
       "      <td>1200401</td>\n",
       "      <td>DOMINGO</td>\n",
       "      <td>MANHA</td>\n",
       "      <td>...</td>\n",
       "      <td>NAO INFORMADO</td>\n",
       "      <td>NAO INFORMADO</td>\n",
       "      <td>NAO INFORMADO</td>\n",
       "      <td>NAO INFORMADO</td>\n",
       "      <td>NAO INFORMADO</td>\n",
       "      <td>1</td>\n",
       "      <td>0</td>\n",
       "      <td>2</td>\n",
       "      <td>2</td>\n",
       "      <td>0</td>\n",
       "    </tr>\n",
       "  </tbody>\n",
       "</table>\n",
       "<p>5 rows × 35 columns</p>\n",
       "</div>"
      ],
      "text/plain": [
       "   num_acidente   chv_localidade data_acidente uf_acidente  ano_acidente  \\\n",
       "0       2448623  AC1200401201801    2018-01-24          AC          2018   \n",
       "1       3477494  AC1200385201801    2018-01-06          AC          2018   \n",
       "2       2939219  AC1200401201801    2018-01-04          AC          2018   \n",
       "3         17595  AC1200203201801    2018-01-22          AC          2018   \n",
       "4         58010  AC1200401201801    2018-01-21          AC          2018   \n",
       "\n",
       "   mes_acidente  mes_ano_acidente  codigo_ibge     dia_semana fase_dia  ...  \\\n",
       "0             1             12018      1200401   QUARTA-FEIRA    MANHA  ...   \n",
       "1             1             12018      1200385         SABADO    TARDE  ...   \n",
       "2             1             12018      1200401   QUINTA-FEIRA    MANHA  ...   \n",
       "3             1             12018      1200203  SEGUNDA-FEIRA    NOITE  ...   \n",
       "4             1             12018      1200401        DOMINGO    MANHA  ...   \n",
       "\n",
       "  lim_velocidade       tp_pista  ind_guardrail  ind_cantcentral  \\\n",
       "0  NAO INFORMADO  NAO INFORMADO  NAO INFORMADO    NAO INFORMADO   \n",
       "1  NAO INFORMADO  NAO INFORMADO  NAO INFORMADO    NAO INFORMADO   \n",
       "2  NAO INFORMADO  NAO INFORMADO  NAO INFORMADO    NAO INFORMADO   \n",
       "3  NAO INFORMADO  NAO INFORMADO  NAO INFORMADO    NAO INFORMADO   \n",
       "4  NAO INFORMADO  NAO INFORMADO  NAO INFORMADO    NAO INFORMADO   \n",
       "\n",
       "   ind_acostamento qtde_acidente  qtde_acid_com_obitos  qtde_envolvidos  \\\n",
       "0    NAO INFORMADO             1                     0                3   \n",
       "1    NAO INFORMADO             1                     0                1   \n",
       "2    NAO INFORMADO             1                     0                2   \n",
       "3    NAO INFORMADO             1                     0                2   \n",
       "4    NAO INFORMADO             1                     0                2   \n",
       "\n",
       "   qtde_feridosilesos  qtde_obitos  \n",
       "0                   3            0  \n",
       "1                   1            0  \n",
       "2                   2            0  \n",
       "3                   2            0  \n",
       "4                   2            0  \n",
       "\n",
       "[5 rows x 35 columns]"
      ]
     },
     "execution_count": 2,
     "metadata": {},
     "output_type": "execute_result"
    }
   ],
   "source": [
    "base.head()"
   ]
  },
  {
   "cell_type": "markdown",
   "id": "7d94df46",
   "metadata": {},
   "source": [
    "Depois, analisei quais eram os 5 primeiros registros da base com o método base.head()"
   ]
  },
  {
   "cell_type": "code",
   "execution_count": 3,
   "id": "d83b377f-d52a-4ebd-adcd-b246e4eaf257",
   "metadata": {},
   "outputs": [
    {
     "data": {
      "text/html": [
       "<div>\n",
       "<style scoped>\n",
       "    .dataframe tbody tr th:only-of-type {\n",
       "        vertical-align: middle;\n",
       "    }\n",
       "\n",
       "    .dataframe tbody tr th {\n",
       "        vertical-align: top;\n",
       "    }\n",
       "\n",
       "    .dataframe thead th {\n",
       "        text-align: right;\n",
       "    }\n",
       "</style>\n",
       "<table border=\"1\" class=\"dataframe\">\n",
       "  <thead>\n",
       "    <tr style=\"text-align: right;\">\n",
       "      <th></th>\n",
       "      <th>num_acidente</th>\n",
       "      <th>chv_localidade</th>\n",
       "      <th>data_acidente</th>\n",
       "      <th>uf_acidente</th>\n",
       "      <th>ano_acidente</th>\n",
       "      <th>mes_acidente</th>\n",
       "      <th>mes_ano_acidente</th>\n",
       "      <th>codigo_ibge</th>\n",
       "      <th>dia_semana</th>\n",
       "      <th>fase_dia</th>\n",
       "      <th>...</th>\n",
       "      <th>lim_velocidade</th>\n",
       "      <th>tp_pista</th>\n",
       "      <th>ind_guardrail</th>\n",
       "      <th>ind_cantcentral</th>\n",
       "      <th>ind_acostamento</th>\n",
       "      <th>qtde_acidente</th>\n",
       "      <th>qtde_acid_com_obitos</th>\n",
       "      <th>qtde_envolvidos</th>\n",
       "      <th>qtde_feridosilesos</th>\n",
       "      <th>qtde_obitos</th>\n",
       "    </tr>\n",
       "  </thead>\n",
       "  <tbody>\n",
       "    <tr>\n",
       "      <th>4925598</th>\n",
       "      <td>4163385</td>\n",
       "      <td>TO1720853202305</td>\n",
       "      <td>2023-05-03</td>\n",
       "      <td>TO</td>\n",
       "      <td>2023</td>\n",
       "      <td>5</td>\n",
       "      <td>52023</td>\n",
       "      <td>1720853</td>\n",
       "      <td>QUARTA-FEIRA</td>\n",
       "      <td>TARDE</td>\n",
       "      <td>...</td>\n",
       "      <td>NAO INFORMADO</td>\n",
       "      <td>NAO INFORMADO</td>\n",
       "      <td>NAO INFORMADO</td>\n",
       "      <td>NAO INFORMADO</td>\n",
       "      <td>NAO INFORMADO</td>\n",
       "      <td>1</td>\n",
       "      <td>0</td>\n",
       "      <td>2</td>\n",
       "      <td>2</td>\n",
       "      <td>0</td>\n",
       "    </tr>\n",
       "    <tr>\n",
       "      <th>4925599</th>\n",
       "      <td>3233251</td>\n",
       "      <td>TO1713304202305</td>\n",
       "      <td>2023-05-02</td>\n",
       "      <td>TO</td>\n",
       "      <td>2023</td>\n",
       "      <td>5</td>\n",
       "      <td>52023</td>\n",
       "      <td>1713304</td>\n",
       "      <td>TERCA-FEIRA</td>\n",
       "      <td>TARDE</td>\n",
       "      <td>...</td>\n",
       "      <td>NAO INFORMADO</td>\n",
       "      <td>NAO INFORMADO</td>\n",
       "      <td>NAO INFORMADO</td>\n",
       "      <td>NAO INFORMADO</td>\n",
       "      <td>NAO INFORMADO</td>\n",
       "      <td>1</td>\n",
       "      <td>0</td>\n",
       "      <td>2</td>\n",
       "      <td>2</td>\n",
       "      <td>0</td>\n",
       "    </tr>\n",
       "    <tr>\n",
       "      <th>4925600</th>\n",
       "      <td>922960</td>\n",
       "      <td>TO1715754202305</td>\n",
       "      <td>2023-05-08</td>\n",
       "      <td>TO</td>\n",
       "      <td>2023</td>\n",
       "      <td>5</td>\n",
       "      <td>52023</td>\n",
       "      <td>1715754</td>\n",
       "      <td>SEGUNDA-FEIRA</td>\n",
       "      <td>TARDE</td>\n",
       "      <td>...</td>\n",
       "      <td>NAO INFORMADO</td>\n",
       "      <td>NAO INFORMADO</td>\n",
       "      <td>NAO INFORMADO</td>\n",
       "      <td>NAO INFORMADO</td>\n",
       "      <td>NAO INFORMADO</td>\n",
       "      <td>1</td>\n",
       "      <td>0</td>\n",
       "      <td>2</td>\n",
       "      <td>2</td>\n",
       "      <td>0</td>\n",
       "    </tr>\n",
       "    <tr>\n",
       "      <th>4925601</th>\n",
       "      <td>3435150</td>\n",
       "      <td>TO1720804202305</td>\n",
       "      <td>2023-05-06</td>\n",
       "      <td>TO</td>\n",
       "      <td>2023</td>\n",
       "      <td>5</td>\n",
       "      <td>52023</td>\n",
       "      <td>1720804</td>\n",
       "      <td>SABADO</td>\n",
       "      <td>NOITE</td>\n",
       "      <td>...</td>\n",
       "      <td>NAO INFORMADO</td>\n",
       "      <td>NAO INFORMADO</td>\n",
       "      <td>NAO INFORMADO</td>\n",
       "      <td>NAO INFORMADO</td>\n",
       "      <td>NAO INFORMADO</td>\n",
       "      <td>1</td>\n",
       "      <td>0</td>\n",
       "      <td>3</td>\n",
       "      <td>3</td>\n",
       "      <td>0</td>\n",
       "    </tr>\n",
       "    <tr>\n",
       "      <th>4925602</th>\n",
       "      <td>4441387</td>\n",
       "      <td>TO1709500202305</td>\n",
       "      <td>2023-05-16</td>\n",
       "      <td>TO</td>\n",
       "      <td>2023</td>\n",
       "      <td>5</td>\n",
       "      <td>52023</td>\n",
       "      <td>1709500</td>\n",
       "      <td>TERCA-FEIRA</td>\n",
       "      <td>NOITE</td>\n",
       "      <td>...</td>\n",
       "      <td>NAO INFORMADO</td>\n",
       "      <td>NAO INFORMADO</td>\n",
       "      <td>NAO INFORMADO</td>\n",
       "      <td>NAO INFORMADO</td>\n",
       "      <td>NAO INFORMADO</td>\n",
       "      <td>1</td>\n",
       "      <td>0</td>\n",
       "      <td>2</td>\n",
       "      <td>2</td>\n",
       "      <td>0</td>\n",
       "    </tr>\n",
       "  </tbody>\n",
       "</table>\n",
       "<p>5 rows × 35 columns</p>\n",
       "</div>"
      ],
      "text/plain": [
       "         num_acidente   chv_localidade data_acidente uf_acidente  \\\n",
       "4925598       4163385  TO1720853202305    2023-05-03          TO   \n",
       "4925599       3233251  TO1713304202305    2023-05-02          TO   \n",
       "4925600        922960  TO1715754202305    2023-05-08          TO   \n",
       "4925601       3435150  TO1720804202305    2023-05-06          TO   \n",
       "4925602       4441387  TO1709500202305    2023-05-16          TO   \n",
       "\n",
       "         ano_acidente  mes_acidente  mes_ano_acidente  codigo_ibge  \\\n",
       "4925598          2023             5             52023      1720853   \n",
       "4925599          2023             5             52023      1713304   \n",
       "4925600          2023             5             52023      1715754   \n",
       "4925601          2023             5             52023      1720804   \n",
       "4925602          2023             5             52023      1709500   \n",
       "\n",
       "            dia_semana fase_dia  ... lim_velocidade       tp_pista  \\\n",
       "4925598   QUARTA-FEIRA    TARDE  ...  NAO INFORMADO  NAO INFORMADO   \n",
       "4925599    TERCA-FEIRA    TARDE  ...  NAO INFORMADO  NAO INFORMADO   \n",
       "4925600  SEGUNDA-FEIRA    TARDE  ...  NAO INFORMADO  NAO INFORMADO   \n",
       "4925601         SABADO    NOITE  ...  NAO INFORMADO  NAO INFORMADO   \n",
       "4925602    TERCA-FEIRA    NOITE  ...  NAO INFORMADO  NAO INFORMADO   \n",
       "\n",
       "         ind_guardrail  ind_cantcentral  ind_acostamento qtde_acidente  \\\n",
       "4925598  NAO INFORMADO    NAO INFORMADO    NAO INFORMADO             1   \n",
       "4925599  NAO INFORMADO    NAO INFORMADO    NAO INFORMADO             1   \n",
       "4925600  NAO INFORMADO    NAO INFORMADO    NAO INFORMADO             1   \n",
       "4925601  NAO INFORMADO    NAO INFORMADO    NAO INFORMADO             1   \n",
       "4925602  NAO INFORMADO    NAO INFORMADO    NAO INFORMADO             1   \n",
       "\n",
       "         qtde_acid_com_obitos  qtde_envolvidos  qtde_feridosilesos  \\\n",
       "4925598                     0                2                   2   \n",
       "4925599                     0                2                   2   \n",
       "4925600                     0                2                   2   \n",
       "4925601                     0                3                   3   \n",
       "4925602                     0                2                   2   \n",
       "\n",
       "         qtde_obitos  \n",
       "4925598            0  \n",
       "4925599            0  \n",
       "4925600            0  \n",
       "4925601            0  \n",
       "4925602            0  \n",
       "\n",
       "[5 rows x 35 columns]"
      ]
     },
     "execution_count": 3,
     "metadata": {},
     "output_type": "execute_result"
    }
   ],
   "source": [
    "base.tail()"
   ]
  },
  {
   "cell_type": "markdown",
   "id": "14e4c17b",
   "metadata": {},
   "source": [
    "Depois, analisei quais eram os 5 últimos registros da base com o método base.tail()."
   ]
  },
  {
   "cell_type": "code",
   "execution_count": 4,
   "id": "9abd259c-413b-4544-a9bf-3463cb27aa1a",
   "metadata": {},
   "outputs": [
    {
     "data": {
      "text/plain": [
       "(4925603, 35)"
      ]
     },
     "execution_count": 4,
     "metadata": {},
     "output_type": "execute_result"
    }
   ],
   "source": [
    "base.shape"
   ]
  },
  {
   "cell_type": "markdown",
   "id": "81efa802",
   "metadata": {},
   "source": [
    "Usei o base.shape para analisar qual o tamanho de registros e o número de colunas."
   ]
  },
  {
   "cell_type": "code",
   "execution_count": 5,
   "id": "f74b0eb4-1c52-43f6-bda4-1c3f84bf9efb",
   "metadata": {},
   "outputs": [
    {
     "name": "stdout",
     "output_type": "stream",
     "text": [
      "2018-01-01\n"
     ]
    }
   ],
   "source": [
    "inicio = pd.to_datetime(base['data_acidente']).dt.date.min()\n",
    "print(inicio)"
   ]
  },
  {
   "cell_type": "markdown",
   "id": "b082dcfc",
   "metadata": {},
   "source": [
    "Usei o to_datetime() para ler a coluna data_acidente e date.min() para verificar qual a data de início da base de dados."
   ]
  },
  {
   "cell_type": "code",
   "execution_count": 6,
   "id": "ec777b73-7d47-4b76-8f2a-a1d9da57bae4",
   "metadata": {},
   "outputs": [
    {
     "name": "stdout",
     "output_type": "stream",
     "text": [
      "2023-05-31\n"
     ]
    }
   ],
   "source": [
    "fim = pd.to_datetime(base['data_acidente']).dt.date.max()\n",
    "print(fim)"
   ]
  },
  {
   "cell_type": "markdown",
   "id": "d3887adb",
   "metadata": {},
   "source": [
    "E dessa vez, usei novamente o to_datetime e usei date.max() para verificar a última data registrada na base de dados."
   ]
  },
  {
   "cell_type": "code",
   "execution_count": 7,
   "id": "e8bed971-035d-4305-b46c-201344528e1b",
   "metadata": {},
   "outputs": [
    {
     "name": "stdout",
     "output_type": "stream",
     "text": [
      "<class 'pandas.core.frame.DataFrame'>\n",
      "RangeIndex: 4925603 entries, 0 to 4925602\n",
      "Data columns (total 35 columns):\n",
      " #   Column                Dtype  \n",
      "---  ------                -----  \n",
      " 0   num_acidente          int64  \n",
      " 1   chv_localidade        object \n",
      " 2   data_acidente         object \n",
      " 3   uf_acidente           object \n",
      " 4   ano_acidente          int64  \n",
      " 5   mes_acidente          int64  \n",
      " 6   mes_ano_acidente      int64  \n",
      " 7   codigo_ibge           int64  \n",
      " 8   dia_semana            object \n",
      " 9   fase_dia              object \n",
      " 10  tp_acidente           object \n",
      " 11  cond_meteorologica    object \n",
      " 12  end_acidente          object \n",
      " 13  num_end_acidente      int64  \n",
      " 14  cep_acidente          int64  \n",
      " 15  bairro_acidente       object \n",
      " 16  km_via_acidente       int64  \n",
      " 17  latitude_acidente     float64\n",
      " 18  longitude_acidente    float64\n",
      " 19  hora_acidente         int64  \n",
      " 20  tp_rodovia            object \n",
      " 21  cond_pista            object \n",
      " 22  tp_cruzamento         object \n",
      " 23  tp_pavimento          object \n",
      " 24  tp_curva              object \n",
      " 25  lim_velocidade        object \n",
      " 26  tp_pista              object \n",
      " 27  ind_guardrail         object \n",
      " 28  ind_cantcentral       object \n",
      " 29  ind_acostamento       object \n",
      " 30  qtde_acidente         int64  \n",
      " 31  qtde_acid_com_obitos  int64  \n",
      " 32  qtde_envolvidos       int64  \n",
      " 33  qtde_feridosilesos    int64  \n",
      " 34  qtde_obitos           int64  \n",
      "dtypes: float64(2), int64(14), object(19)\n",
      "memory usage: 1.3+ GB\n"
     ]
    }
   ],
   "source": [
    "base.info()"
   ]
  },
  {
   "cell_type": "markdown",
   "id": "7915ec89",
   "metadata": {},
   "source": [
    "Usei o método base.info() para verificar as colunas, o tipo do dado e o tamanho da base."
   ]
  },
  {
   "cell_type": "code",
   "execution_count": 8,
   "id": "55afac6a-ca70-4d47-8560-8badeb9da109",
   "metadata": {},
   "outputs": [
    {
     "data": {
      "text/plain": [
       "num_acidente                  0\n",
       "chv_localidade                0\n",
       "data_acidente                 0\n",
       "uf_acidente                   0\n",
       "ano_acidente                  0\n",
       "mes_acidente                  0\n",
       "mes_ano_acidente              0\n",
       "codigo_ibge                   0\n",
       "dia_semana                    0\n",
       "fase_dia                      0\n",
       "tp_acidente                   0\n",
       "cond_meteorologica            0\n",
       "end_acidente             157888\n",
       "num_end_acidente              0\n",
       "cep_acidente                  0\n",
       "bairro_acidente         1933910\n",
       "km_via_acidente               0\n",
       "latitude_acidente       3639454\n",
       "longitude_acidente      3639589\n",
       "hora_acidente                 0\n",
       "tp_rodovia                    0\n",
       "cond_pista                    0\n",
       "tp_cruzamento                 0\n",
       "tp_pavimento                  0\n",
       "tp_curva                      0\n",
       "lim_velocidade                0\n",
       "tp_pista                      0\n",
       "ind_guardrail                 0\n",
       "ind_cantcentral               0\n",
       "ind_acostamento               0\n",
       "qtde_acidente                 0\n",
       "qtde_acid_com_obitos          0\n",
       "qtde_envolvidos               0\n",
       "qtde_feridosilesos            0\n",
       "qtde_obitos                   0\n",
       "dtype: int64"
      ]
     },
     "execution_count": 8,
     "metadata": {},
     "output_type": "execute_result"
    }
   ],
   "source": [
    "base.isnull().sum()"
   ]
  },
  {
   "cell_type": "markdown",
   "id": "6f7249cf",
   "metadata": {},
   "source": [
    "Usei o método base.isnull().sum() para analisar quantas colunas tinham valores nulos. Possibilitando-me ideias de quais colunas devo utilizar em minha ánalise final."
   ]
  },
  {
   "cell_type": "code",
   "execution_count": 9,
   "id": "04fb604b-7951-4cc2-b3f2-05da58e09229",
   "metadata": {
    "scrolled": true
   },
   "outputs": [
    {
     "name": "stdout",
     "output_type": "stream",
     "text": [
      "       ano_acidente  mes_acidente  hora_acidente  qtde_acidente  \\\n",
      "count  4.925603e+06  4.925603e+06   4.925603e+06      4925603.0   \n",
      "mean   2.020274e+03  6.489344e+00   1.479713e+05            1.0   \n",
      "std    1.484895e+00  3.465866e+00   1.126696e+05            0.0   \n",
      "min    2.018000e+03  1.000000e+00   0.000000e+00            1.0   \n",
      "25%    2.019000e+03  3.000000e+00   1.000000e+05            1.0   \n",
      "50%    2.020000e+03  6.000000e+00   1.430000e+05            1.0   \n",
      "75%    2.022000e+03  1.000000e+01   1.820000e+05            1.0   \n",
      "max    2.023000e+03  1.200000e+01   9.999990e+05            1.0   \n",
      "\n",
      "       qtde_acid_com_obitos  qtde_envolvidos  qtde_feridosilesos   qtde_obitos  \n",
      "count          4.925603e+06     4.925603e+06        4.925603e+06  4.925603e+06  \n",
      "mean           2.257815e-02     1.589358e+00        1.564654e+00  2.470439e-02  \n",
      "std            1.485543e-01     9.791111e-01        9.847560e-01  1.738893e-01  \n",
      "min            0.000000e+00     0.000000e+00        0.000000e+00  0.000000e+00  \n",
      "25%            0.000000e+00     1.000000e+00        1.000000e+00  0.000000e+00  \n",
      "50%            0.000000e+00     2.000000e+00        2.000000e+00  0.000000e+00  \n",
      "75%            0.000000e+00     2.000000e+00        2.000000e+00  0.000000e+00  \n",
      "max            1.000000e+00     6.700000e+01        6.700000e+01  4.200000e+01  \n"
     ]
    }
   ],
   "source": [
    "colunas_categoricas = ['ano_acidente', 'mes_acidente', 'hora_acidente', 'qtde_acidente', 'qtde_acid_com_obitos', 'qtde_envolvidos', 'qtde_feridosilesos', 'qtde_obitos']\n",
    "estatisticas = base[colunas_categoricas].describe()\n",
    "print(estatisticas)"
   ]
  },
  {
   "cell_type": "markdown",
   "id": "8d1856f5",
   "metadata": {},
   "source": [
    "Filtrei em uma lista quais colunas queria utilizar em minha análise, depois utilizei o método base[lista].describe() junto com a base filtrada pela lista, para analisar qual a média, total de registros, valores minímos e máximos de colunas numéricas."
   ]
  },
  {
   "cell_type": "markdown",
   "id": "9e0761e7",
   "metadata": {},
   "source": [
    "E o que cada linha dessa significa? \n",
    "count: O número total de observações (ou seja, acidentes) para cada coluna.\n",
    "mean: A média (ou valor médio) das observações para cada coluna.\n",
    "std: O desvio padrão das observações para cada coluna, isso mede a quantidade de variação ou dispersão dos valores.\n",
    "min: O valor mínimo encontrado para cada coluna.\n",
    "25%: O primeiro quartil para cada coluna, 25% das observações são menores que esse valor.\n",
    "50%: A mediana para cada coluna, 50% das observações são menores que esse valor.\n",
    "75%: O terceiro quartil para cada coluna, 75% das observações são menores que esse valor.\n",
    "max: O valor máximo encontrado para cada coluna."
   ]
  },
  {
   "cell_type": "markdown",
   "id": "1e8651b3",
   "metadata": {},
   "source": [
    "ano_acidente:\n",
    "Contagem: 4,925,603\n",
    "Média: 2020.27\n",
    "Desvio padrão: 1.48\n",
    "Mínimo: 2018\n",
    "25% (primeiro quartil): 2019\n",
    "50% (mediana): 2020\n",
    "75% (terceiro quartil): 2022\n",
    "Máximo: 2023"
   ]
  },
  {
   "cell_type": "markdown",
   "id": "c045583b",
   "metadata": {},
   "source": [
    "mes_acidente:\n",
    "Contagem: 4,925,603\n",
    "Média: 6.49\n",
    "Desvio padrão: 3.47\n",
    "Mínimo: 1\n",
    "25% (primeiro quartil): 3\n",
    "50% (mediana): 6\n",
    "75% (terceiro quartil): 10\n",
    "Máximo: 12"
   ]
  },
  {
   "cell_type": "markdown",
   "id": "638aa7e9",
   "metadata": {},
   "source": [
    "hora_acidente:\n",
    "Contagem: 4,925,603\n",
    "Média: 147,971.3\n",
    "Desvio padrão: 112,669.6\n",
    "Mínimo: 0\n",
    "25% (primeiro quartil): 100,000\n",
    "50% (mediana): 143,000\n",
    "75% (terceiro quartil): 182,000\n",
    "Máximo: 999,999"
   ]
  },
  {
   "cell_type": "markdown",
   "id": "c9f84803",
   "metadata": {},
   "source": [
    "qtde_acidente:\n",
    "Contagem: 4,925,603\n",
    "Média: 1\n",
    "Desvio padrão: 0\n",
    "Mínimo: 1\n",
    "25% (primeiro quartil): 1\n",
    "50% (mediana): 1\n",
    "75% (terceiro quartil): 1\n",
    "Máximo: 1\n"
   ]
  },
  {
   "cell_type": "markdown",
   "id": "e0c9b158",
   "metadata": {},
   "source": [
    "qtde_acid_com_obitos:\n",
    "Contagem: 4,925,603\n",
    "Média: 0.0226\n",
    "Desvio padrão: 0.1486\n",
    "Mínimo: 0\n",
    "25% (primeiro quartil): 0\n",
    "50% (mediana): 0\n",
    "75% (terceiro quartil): 0\n",
    "Máximo: 1"
   ]
  },
  {
   "cell_type": "markdown",
   "id": "c1989a08",
   "metadata": {},
   "source": [
    "qtde_envolvidos:\n",
    "Contagem: 4,925,603\n",
    "Média: 1.589\n",
    "Desvio padrão: 0.9791\n",
    "Mínimo: 0\n",
    "25% (primeiro quartil): 1\n",
    "50% (mediana): 2\n",
    "75% (terceiro quartil): 2\n",
    "Máximo: 67"
   ]
  },
  {
   "cell_type": "markdown",
   "id": "a6a70ae1",
   "metadata": {},
   "source": [
    "qtde_feridosilesos:\n",
    "Contagem: 4,925,603\n",
    "Média: 1.565\n",
    "Desvio padrão: 0.9848\n",
    "Mínimo: 0\n",
    "25% (primeiro quartil): 1\n",
    "50% (mediana): 2\n",
    "75% (terceiro quartil): 2\n",
    "Máximo: 67"
   ]
  },
  {
   "cell_type": "markdown",
   "id": "524a55b2",
   "metadata": {},
   "source": [
    "qtde_obitos:\n",
    "Contagem: 4,925,603\n",
    "Média: 0.0247\n",
    "Desvio padrão: 0.1739\n",
    "Mínimo: 0\n",
    "25% (primeiro quartil): 0\n",
    "50% (mediana): 0\n",
    "75% (terceiro quartil): 0\n",
    "Máximo: 42"
   ]
  },
  {
   "cell_type": "markdown",
   "id": "0854df28",
   "metadata": {},
   "source": [
    "Por fim, usei o método .value_counts(),que é um método que mostra os valores registrados das colunas. Dessa forma, posso ver quais são os valores registrados em cada coluna. Assim, foi possível eu decidir quais colunas usar, conforme meu ponto de vista."
   ]
  },
  {
   "cell_type": "code",
   "execution_count": 13,
   "id": "d98ba79e",
   "metadata": {},
   "outputs": [
    {
     "data": {
      "text/plain": [
       "num_acidente\n",
       "2448623    1\n",
       "1677022    1\n",
       "935891     1\n",
       "477055     1\n",
       "4552496    1\n",
       "          ..\n",
       "3606690    1\n",
       "2443535    1\n",
       "1800510    1\n",
       "4450370    1\n",
       "4441387    1\n",
       "Name: count, Length: 4925603, dtype: int64"
      ]
     },
     "execution_count": 13,
     "metadata": {},
     "output_type": "execute_result"
    }
   ],
   "source": [
    "base.num_acidente.value_counts()"
   ]
  },
  {
   "cell_type": "code",
   "execution_count": 14,
   "id": "47a74daf",
   "metadata": {},
   "outputs": [
    {
     "data": {
      "text/plain": [
       "chv_localidade\n",
       "MG3106200201911    7215\n",
       "MG3106200201909    7192\n",
       "MG3106200201912    7163\n",
       "MG3106200201910    7142\n",
       "MG3106200201905    7095\n",
       "                   ... \n",
       "PE2609501202203       1\n",
       "GO5213772202006       1\n",
       "GO5210562202006       1\n",
       "PE2612109202203       1\n",
       "TO1720804202305       1\n",
       "Name: count, Length: 208517, dtype: int64"
      ]
     },
     "execution_count": 14,
     "metadata": {},
     "output_type": "execute_result"
    }
   ],
   "source": [
    "base.chv_localidade.value_counts()"
   ]
  },
  {
   "cell_type": "code",
   "execution_count": 15,
   "id": "6af98db8",
   "metadata": {},
   "outputs": [
    {
     "data": {
      "text/plain": [
       "data_acidente\n",
       "2021-12-17    3898\n",
       "2020-03-06    3857\n",
       "2021-05-07    3835\n",
       "2019-09-06    3807\n",
       "2021-12-18    3793\n",
       "              ... \n",
       "2023-04-21    1019\n",
       "2023-04-23     996\n",
       "2020-03-22     993\n",
       "2023-04-07     953\n",
       "2023-05-01     892\n",
       "Name: count, Length: 1977, dtype: int64"
      ]
     },
     "execution_count": 15,
     "metadata": {},
     "output_type": "execute_result"
    }
   ],
   "source": [
    "base.data_acidente.value_counts()"
   ]
  },
  {
   "cell_type": "code",
   "execution_count": 16,
   "id": "7df6441d",
   "metadata": {},
   "outputs": [
    {
     "data": {
      "text/plain": [
       "uf_acidente\n",
       "MG    1369590\n",
       "SP     754456\n",
       "SC     632685\n",
       "PR     485239\n",
       "GO     467188\n",
       "ES     200232\n",
       "DF     176100\n",
       "PA     144479\n",
       "MS      99570\n",
       "RJ      95805\n",
       "CE      75143\n",
       "BA      71324\n",
       "PE      69654\n",
       "RO      57796\n",
       "PI      55981\n",
       "RN      28059\n",
       "MT      25395\n",
       "TO      23193\n",
       "AC      20812\n",
       "MA      15251\n",
       "RR      13254\n",
       "PB      11323\n",
       "AP       7437\n",
       "RS       7310\n",
       "AL       7208\n",
       "AM       6763\n",
       "SE       4356\n",
       "Name: count, dtype: int64"
      ]
     },
     "execution_count": 16,
     "metadata": {},
     "output_type": "execute_result"
    }
   ],
   "source": [
    "base.uf_acidente.value_counts()"
   ]
  },
  {
   "cell_type": "code",
   "execution_count": 17,
   "id": "ff1e4b7d-eb0f-415d-b8b0-c87a728c2acb",
   "metadata": {},
   "outputs": [
    {
     "data": {
      "text/plain": [
       "ano_acidente\n",
       "2022    1023173\n",
       "2021    1012768\n",
       "2019    1007653\n",
       "2020     912288\n",
       "2018     721879\n",
       "2023     247842\n",
       "Name: count, dtype: int64"
      ]
     },
     "execution_count": 17,
     "metadata": {},
     "output_type": "execute_result"
    }
   ],
   "source": [
    "base.ano_acidente.value_counts()"
   ]
  },
  {
   "cell_type": "code",
   "execution_count": 18,
   "id": "69dcc417-1831-49a4-aff5-b0c3ca85fd70",
   "metadata": {},
   "outputs": [
    {
     "data": {
      "text/plain": [
       "mes_acidente\n",
       "5     434032\n",
       "3     427084\n",
       "10    424952\n",
       "2     424093\n",
       "12    411459\n",
       "11    411268\n",
       "8     409887\n",
       "1     406068\n",
       "9     401959\n",
       "4     396594\n",
       "7     394947\n",
       "6     383260\n",
       "Name: count, dtype: int64"
      ]
     },
     "execution_count": 18,
     "metadata": {},
     "output_type": "execute_result"
    }
   ],
   "source": [
    "base.mes_acidente.value_counts()"
   ]
  },
  {
   "cell_type": "code",
   "execution_count": 19,
   "id": "82fca209",
   "metadata": {},
   "outputs": [
    {
     "data": {
      "text/plain": [
       "mes_ano_acidente\n",
       "102022    93542\n",
       "122021    93528\n",
       "52022     91281\n",
       "72021     91250\n",
       "82022     90552\n",
       "          ...  \n",
       "22018     51923\n",
       "42020     51237\n",
       "12023     47118\n",
       "52023     44645\n",
       "42023     43097\n",
       "Name: count, Length: 65, dtype: int64"
      ]
     },
     "execution_count": 19,
     "metadata": {},
     "output_type": "execute_result"
    }
   ],
   "source": [
    "base.mes_ano_acidente.value_counts()"
   ]
  },
  {
   "cell_type": "code",
   "execution_count": 20,
   "id": "7c01c2de",
   "metadata": {},
   "outputs": [
    {
     "data": {
      "text/plain": [
       "codigo_ibge\n",
       "3106200    380055\n",
       "5300108    176100\n",
       "3550308    173539\n",
       "5208707    162099\n",
       "4106902    138107\n",
       "            ...  \n",
       "4306379         1\n",
       "4305835         1\n",
       "4314175         1\n",
       "4304853         1\n",
       "1704105         1\n",
       "Name: count, Length: 5469, dtype: int64"
      ]
     },
     "execution_count": 20,
     "metadata": {},
     "output_type": "execute_result"
    }
   ],
   "source": [
    "base.codigo_ibge.value_counts()"
   ]
  },
  {
   "cell_type": "code",
   "execution_count": 21,
   "id": "cf759963-6a11-4498-a11c-c2a3d29686c1",
   "metadata": {},
   "outputs": [
    {
     "data": {
      "text/plain": [
       "dia_semana\n",
       "SEXTA-FEIRA      800737\n",
       "SABADO           744681\n",
       "SEGUNDA-FEIRA    712895\n",
       "QUINTA-FEIRA     699731\n",
       "QUARTA-FEIRA     690943\n",
       "TERCA-FEIRA      678063\n",
       "DOMINGO          598553\n",
       "Name: count, dtype: int64"
      ]
     },
     "execution_count": 21,
     "metadata": {},
     "output_type": "execute_result"
    }
   ],
   "source": [
    "base.dia_semana.value_counts()"
   ]
  },
  {
   "cell_type": "code",
   "execution_count": 22,
   "id": "c1c7302a-1875-497d-88cc-e7ce75177bfb",
   "metadata": {},
   "outputs": [
    {
     "data": {
      "text/plain": [
       "fase_dia\n",
       "TARDE            1833981\n",
       "MANHA            1371277\n",
       "NOITE            1335740\n",
       "MADRUGADA         330614\n",
       "NAO INFORMADO      50657\n",
       "DESCONHECIDO        3334\n",
       "Name: count, dtype: int64"
      ]
     },
     "execution_count": 22,
     "metadata": {},
     "output_type": "execute_result"
    }
   ],
   "source": [
    "base.fase_dia.value_counts()"
   ]
  },
  {
   "cell_type": "code",
   "execution_count": 23,
   "id": "771d6d1d",
   "metadata": {},
   "outputs": [
    {
     "data": {
      "text/plain": [
       "tp_acidente\n",
       "DESCONHECIDO                                 1183867\n",
       "COLISAO                                       789694\n",
       "COLISAO LATERAL                               484260\n",
       "CHOQUE                                        449149\n",
       "COLISAO TRASEIRA                              412645\n",
       "OUTROS ACIDENTES DE TRANSITO                  398605\n",
       "COLISAO FRONTAL                               303175\n",
       "COLISAO TRANSVERSAL                           211218\n",
       "QUEDA                                         176732\n",
       "NAO INFORMADO                                 162567\n",
       "ATROPELAMENTO COM PEDESTRE                    145423\n",
       "CAPOTAMENTO                                    68490\n",
       "TOMBAMENTO                                     63141\n",
       "ATROPELAMENTO COM ANIMAIS                      41387\n",
       "ENGAVETAMENTO                                  34652\n",
       "ACIDENTE PESSOAL DE TRANSITO COM PEDESTRE        598\n",
       "Name: count, dtype: int64"
      ]
     },
     "execution_count": 23,
     "metadata": {},
     "output_type": "execute_result"
    }
   ],
   "source": [
    "base.tp_acidente.value_counts()"
   ]
  },
  {
   "cell_type": "code",
   "execution_count": 24,
   "id": "597fabcc-03df-4ccb-aea1-1d374d3fb9b8",
   "metadata": {},
   "outputs": [
    {
     "data": {
      "text/plain": [
       "cond_meteorologica\n",
       "NAO INFORMADO                2562782\n",
       "CLARO                         976279\n",
       "DESCONHECIDAS                 841239\n",
       "OUTRAS CONDICOES              432311\n",
       "CHUVA                          66855\n",
       "NUBLADO                        27167\n",
       "GAROACHUVISCO                  15341\n",
       "NEVOEIRO  NEVOA OU FUMACA       3507\n",
       "VENTOS FORTES                    102\n",
       "NEVE                              13\n",
       "GRANIZO                            7\n",
       "Name: count, dtype: int64"
      ]
     },
     "execution_count": 24,
     "metadata": {},
     "output_type": "execute_result"
    }
   ],
   "source": [
    "base.cond_meteorologica.value_counts()"
   ]
  },
  {
   "cell_type": "code",
   "execution_count": 25,
   "id": "6e2bd3c4",
   "metadata": {},
   "outputs": [
    {
     "data": {
      "text/plain": [
       "end_acidente\n",
       "GERAL                                    56508\n",
       "PRINCIPAL  RUA                           40692\n",
       "ANEL RODOVIARIO                          19532\n",
       "BR 381                                   19469\n",
       "LOGRADOURO NAO INFORMADO                 19247\n",
       "                                         ...  \n",
       "RUA DELFINO BRASIL  CEP 74989-130            1\n",
       "RUA MAJOR M ALVES                            1\n",
       "RUA RI-02                                    1\n",
       "AVENIDA ANHANGUERA ESQUINA COM RUA 14        1\n",
       "AVENIDA GOIAS COM RUA D CENTRO               1\n",
       "Name: count, Length: 702715, dtype: int64"
      ]
     },
     "execution_count": 25,
     "metadata": {},
     "output_type": "execute_result"
    }
   ],
   "source": [
    "base.end_acidente.value_counts()"
   ]
  },
  {
   "cell_type": "code",
   "execution_count": 26,
   "id": "5d6c873c",
   "metadata": {},
   "outputs": [
    {
     "data": {
      "text/plain": [
       "num_end_acidente\n",
       "0        3384981\n",
       "1          78173\n",
       "100        59183\n",
       "10         37243\n",
       "1000        7885\n",
       "          ...   \n",
       "54882          1\n",
       "95645          1\n",
       "52249          1\n",
       "52175          1\n",
       "96310          1\n",
       "Name: count, Length: 59468, dtype: int64"
      ]
     },
     "execution_count": 26,
     "metadata": {},
     "output_type": "execute_result"
    }
   ],
   "source": [
    "base.num_end_acidente.value_counts()"
   ]
  },
  {
   "cell_type": "code",
   "execution_count": 27,
   "id": "8c93b44a",
   "metadata": {},
   "outputs": [
    {
     "data": {
      "text/plain": [
       "cep_acidente\n",
       "0           4764717\n",
       "61700000       1045\n",
       "61760000        944\n",
       "79900000        880\n",
       "79750000        667\n",
       "             ...   \n",
       "37022595          1\n",
       "35522170          1\n",
       "35661010          1\n",
       "35300296          1\n",
       "95785000          1\n",
       "Name: count, Length: 28849, dtype: int64"
      ]
     },
     "execution_count": 27,
     "metadata": {},
     "output_type": "execute_result"
    }
   ],
   "source": [
    "base.cep_acidente.value_counts()"
   ]
  },
  {
   "cell_type": "code",
   "execution_count": 28,
   "id": "05072837",
   "metadata": {},
   "outputs": [
    {
     "data": {
      "text/plain": [
       "bairro_acidente\n",
       "CENTRO                     362491\n",
       "ZONA RURAL                  96359\n",
       "RURAL                       41699\n",
       "BAIRRO NAO IDENTIFICADO     34575\n",
       "BRASILIA                    33663\n",
       "                            ...  \n",
       "ZONAS RURALS                    1\n",
       "COOPACEM                        1\n",
       "RESIDENCIAL VALENCIA 1          1\n",
       "COPA LIZ                        1\n",
       "SETOR SUSSUAPARA                1\n",
       "Name: count, Length: 37288, dtype: int64"
      ]
     },
     "execution_count": 28,
     "metadata": {},
     "output_type": "execute_result"
    }
   ],
   "source": [
    "base.bairro_acidente.value_counts()"
   ]
  },
  {
   "cell_type": "code",
   "execution_count": 30,
   "id": "4248082c",
   "metadata": {},
   "outputs": [
    {
     "data": {
      "text/plain": [
       "km_via_acidente\n",
       "0       4646068\n",
       "1         10295\n",
       "2          4959\n",
       "10         4841\n",
       "4          4534\n",
       "         ...   \n",
       "1883          1\n",
       "3327          1\n",
       "2443          1\n",
       "3413          1\n",
       "4607          1\n",
       "Name: count, Length: 3915, dtype: int64"
      ]
     },
     "execution_count": 30,
     "metadata": {},
     "output_type": "execute_result"
    }
   ],
   "source": [
    "base.km_via_acidente.value_counts()"
   ]
  },
  {
   "cell_type": "code",
   "execution_count": 32,
   "id": "f5e43111",
   "metadata": {},
   "outputs": [
    {
     "data": {
      "text/plain": [
       "latitude_acidente\n",
       "-0.000000     356963\n",
       "-20.355800      4235\n",
       "-20.127100      4085\n",
       "-20.299500      4000\n",
       "-20.848200      2747\n",
       "               ...  \n",
       "-19.899774         1\n",
       "-17.854498         1\n",
       "-20.491483         1\n",
       "-19.936583         1\n",
       "-11.735969         1\n",
       "Name: count, Length: 515152, dtype: int64"
      ]
     },
     "execution_count": 32,
     "metadata": {},
     "output_type": "execute_result"
    }
   ],
   "source": [
    "base.latitude_acidente.value_counts()"
   ]
  },
  {
   "cell_type": "code",
   "execution_count": 33,
   "id": "7e17ac54",
   "metadata": {},
   "outputs": [
    {
     "data": {
      "text/plain": [
       "longitude_acidente\n",
       "-0.000000     356962\n",
       "-40.302400      4235\n",
       "-40.305400      4085\n",
       "-40.313200      4000\n",
       "-41.130800      2841\n",
       "               ...  \n",
       "-44.257754         1\n",
       "-42.577309         1\n",
       "-43.864273         1\n",
       "-44.341833         1\n",
       "-49.076847         1\n",
       "Name: count, Length: 516084, dtype: int64"
      ]
     },
     "execution_count": 33,
     "metadata": {},
     "output_type": "execute_result"
    }
   ],
   "source": [
    "base.longitude_acidente.value_counts()"
   ]
  },
  {
   "cell_type": "code",
   "execution_count": 34,
   "id": "d618b29d",
   "metadata": {},
   "outputs": [
    {
     "data": {
      "text/plain": [
       "hora_acidente\n",
       "0         70930\n",
       "170000    67363\n",
       "180000    66877\n",
       "160000    65122\n",
       "999999    64661\n",
       "          ...  \n",
       "11457         1\n",
       "41458         1\n",
       "35412         1\n",
       "22430         1\n",
       "51709         1\n",
       "Name: count, Length: 83923, dtype: int64"
      ]
     },
     "execution_count": 34,
     "metadata": {},
     "output_type": "execute_result"
    }
   ],
   "source": [
    "base.hora_acidente.value_counts()"
   ]
  },
  {
   "cell_type": "code",
   "execution_count": 35,
   "id": "604882ba",
   "metadata": {},
   "outputs": [
    {
     "data": {
      "text/plain": [
       "tp_rodovia\n",
       "NAO INFORMADO    3436167\n",
       "MUNICIPAL        1102292\n",
       "ESTADUAL          168143\n",
       "DESCONHECIDO      145732\n",
       "FEDERAL            73269\n",
       "Name: count, dtype: int64"
      ]
     },
     "execution_count": 35,
     "metadata": {},
     "output_type": "execute_result"
    }
   ],
   "source": [
    "base.tp_rodovia.value_counts()"
   ]
  },
  {
   "cell_type": "code",
   "execution_count": 15,
   "id": "cd13e633-724c-4ac9-966c-184bec566c97",
   "metadata": {},
   "outputs": [
    {
     "data": {
      "text/plain": [
       "cond_pista\n",
       "NAO INFORMADO             3478376\n",
       "SECA                       979776\n",
       "DESCONHECIDO               344363\n",
       "MOLHADA                    115158\n",
       "ESCORREGADIA                 3402\n",
       "OBSTRUIDA                    1718\n",
       "COM BURACO                   1520\n",
       "COM LAMA                      870\n",
       "COM MATERIAL GRANULADO        420\n",
       "Name: count, dtype: int64"
      ]
     },
     "execution_count": 15,
     "metadata": {},
     "output_type": "execute_result"
    }
   ],
   "source": [
    "base.cond_pista.value_counts()"
   ]
  },
  {
   "cell_type": "code",
   "execution_count": 16,
   "id": "55abedfc-5032-4e72-84d7-4423bff0efca",
   "metadata": {},
   "outputs": [
    {
     "data": {
      "text/plain": [
       "tp_pavimento\n",
       "NAO INFORMADO     3278653\n",
       "ASFALTO           1309041\n",
       "DESCONHECIDO       291176\n",
       "TERRA               18961\n",
       "PARALELEPIPEDO      14669\n",
       "CONCRETO             7339\n",
       "CASCALHO             5764\n",
       "Name: count, dtype: int64"
      ]
     },
     "execution_count": 16,
     "metadata": {},
     "output_type": "execute_result"
    }
   ],
   "source": [
    "base.tp_pavimento.value_counts()"
   ]
  },
  {
   "cell_type": "code",
   "execution_count": 36,
   "id": "46345af3",
   "metadata": {},
   "outputs": [
    {
     "data": {
      "text/plain": [
       "tp_curva\n",
       "NAO INFORMADO      4006528\n",
       "DESCONHECIDO        821420\n",
       "NAO HAVIA CURVA      81886\n",
       "CURVA ABERTA         11653\n",
       "CURVA ACENTUADA       4116\n",
       "Name: count, dtype: int64"
      ]
     },
     "execution_count": 36,
     "metadata": {},
     "output_type": "execute_result"
    }
   ],
   "source": [
    "base.tp_curva.value_counts()"
   ]
  },
  {
   "cell_type": "code",
   "execution_count": 37,
   "id": "0efe3991",
   "metadata": {},
   "outputs": [
    {
     "data": {
      "text/plain": [
       "lim_velocidade\n",
       "NAO INFORMADO       4818779\n",
       "40 KMH                40419\n",
       "60 KMH                34118\n",
       "80 KMH                16265\n",
       "30 KMH                11585\n",
       "110 KMH                4435\n",
       "ACIMA DE 110 KMH          2\n",
       "Name: count, dtype: int64"
      ]
     },
     "execution_count": 37,
     "metadata": {},
     "output_type": "execute_result"
    }
   ],
   "source": [
    "base.lim_velocidade.value_counts()"
   ]
  },
  {
   "cell_type": "code",
   "execution_count": 38,
   "id": "7cbe9c6b",
   "metadata": {},
   "outputs": [
    {
     "data": {
      "text/plain": [
       "tp_pista\n",
       "NAO INFORMADO             4542285\n",
       "SIMPLES  COM CICLOVIA      136355\n",
       "SIMPLES  SEM CICLOVIA      113929\n",
       "DUPLA  SEM CICLOVIA         97129\n",
       "DESCONHECIDO                34047\n",
       "MULTIPLA  SEM CICLOVIA       1539\n",
       "MULTIPLA  COM CICLOVIA        172\n",
       "DUPLA  COM CICLOVIA           147\n",
       "Name: count, dtype: int64"
      ]
     },
     "execution_count": 38,
     "metadata": {},
     "output_type": "execute_result"
    }
   ],
   "source": [
    "base.tp_pista.value_counts()"
   ]
  },
  {
   "cell_type": "code",
   "execution_count": 39,
   "id": "2101e71a",
   "metadata": {},
   "outputs": [
    {
     "data": {
      "text/plain": [
       "ind_guardrail\n",
       "NAO INFORMADO    4441154\n",
       "DESCONHECIDO      456403\n",
       "NAO                27876\n",
       "SIM                  170\n",
       "Name: count, dtype: int64"
      ]
     },
     "execution_count": 39,
     "metadata": {},
     "output_type": "execute_result"
    }
   ],
   "source": [
    "base.ind_guardrail.value_counts()"
   ]
  },
  {
   "cell_type": "code",
   "execution_count": 40,
   "id": "cff47c09",
   "metadata": {},
   "outputs": [
    {
     "data": {
      "text/plain": [
       "ind_cantcentral\n",
       "NAO INFORMADO    4168066\n",
       "DESCONHECIDO      455925\n",
       "SIM               152696\n",
       "NAO               148916\n",
       "Name: count, dtype: int64"
      ]
     },
     "execution_count": 40,
     "metadata": {},
     "output_type": "execute_result"
    }
   ],
   "source": [
    "base.ind_cantcentral.value_counts()"
   ]
  },
  {
   "cell_type": "code",
   "execution_count": 41,
   "id": "973c6935",
   "metadata": {},
   "outputs": [
    {
     "data": {
      "text/plain": [
       "ind_acostamento\n",
       "NAO INFORMADO    3572365\n",
       "DESCONHECIDO      881930\n",
       "SIM               294466\n",
       "NAO               176842\n",
       "Name: count, dtype: int64"
      ]
     },
     "execution_count": 41,
     "metadata": {},
     "output_type": "execute_result"
    }
   ],
   "source": [
    "base.ind_acostamento.value_counts()"
   ]
  },
  {
   "cell_type": "code",
   "execution_count": 42,
   "id": "6142e54d-1f0e-40d5-8052-7d07f6223956",
   "metadata": {},
   "outputs": [
    {
     "data": {
      "text/plain": [
       "qtde_acidente\n",
       "1    4925603\n",
       "Name: count, dtype: int64"
      ]
     },
     "execution_count": 42,
     "metadata": {},
     "output_type": "execute_result"
    }
   ],
   "source": [
    "base.qtde_acidente.value_counts()"
   ]
  },
  {
   "cell_type": "code",
   "execution_count": 43,
   "id": "856d033f-86ac-409b-b02d-19d66e352ef1",
   "metadata": {},
   "outputs": [
    {
     "data": {
      "text/plain": [
       "qtde_acid_com_obitos\n",
       "0    4814392\n",
       "1     111211\n",
       "Name: count, dtype: int64"
      ]
     },
     "execution_count": 43,
     "metadata": {},
     "output_type": "execute_result"
    }
   ],
   "source": [
    "base.qtde_acid_com_obitos.value_counts()"
   ]
  },
  {
   "cell_type": "code",
   "execution_count": 44,
   "id": "158b4795-32d2-4261-a6dc-c18a98848058",
   "metadata": {},
   "outputs": [
    {
     "data": {
      "text/plain": [
       "qtde_envolvidos\n",
       "1     1977629\n",
       "2     1948397\n",
       "0      430261\n",
       "3      417877\n",
       "4      101282\n",
       "5       30664\n",
       "6       10806\n",
       "7        4249\n",
       "8        1882\n",
       "9         919\n",
       "10        500\n",
       "11        234\n",
       "12        200\n",
       "13        124\n",
       "14        110\n",
       "15         59\n",
       "16         57\n",
       "17         44\n",
       "19         37\n",
       "20         32\n",
       "18         31\n",
       "21         20\n",
       "22         18\n",
       "25         15\n",
       "23         14\n",
       "27         12\n",
       "24         11\n",
       "31         10\n",
       "26          8\n",
       "42          8\n",
       "37          8\n",
       "30          7\n",
       "28          7\n",
       "34          7\n",
       "29          6\n",
       "35          6\n",
       "40          5\n",
       "38          5\n",
       "32          5\n",
       "41          4\n",
       "46          4\n",
       "33          3\n",
       "39          3\n",
       "44          3\n",
       "56          2\n",
       "36          2\n",
       "45          2\n",
       "61          2\n",
       "50          1\n",
       "48          1\n",
       "58          1\n",
       "54          1\n",
       "43          1\n",
       "52          1\n",
       "67          1\n",
       "55          1\n",
       "51          1\n",
       "66          1\n",
       "53          1\n",
       "49          1\n",
       "Name: count, dtype: int64"
      ]
     },
     "execution_count": 44,
     "metadata": {},
     "output_type": "execute_result"
    }
   ],
   "source": [
    "base.qtde_envolvidos.value_counts()"
   ]
  },
  {
   "cell_type": "code",
   "execution_count": 45,
   "id": "61bb0399-4588-4b89-a996-611da3b6293b",
   "metadata": {},
   "outputs": [
    {
     "data": {
      "text/plain": [
       "qtde_feridosilesos\n",
       "1     1932846\n",
       "2     1931551\n",
       "0      502384\n",
       "3      412609\n",
       "4       98880\n",
       "5       29396\n",
       "6       10024\n",
       "7        3909\n",
       "8        1706\n",
       "9         824\n",
       "10        428\n",
       "11        204\n",
       "12        173\n",
       "13        119\n",
       "14         99\n",
       "15         61\n",
       "16         57\n",
       "17         37\n",
       "19         37\n",
       "18         34\n",
       "20         28\n",
       "21         21\n",
       "23         17\n",
       "22         14\n",
       "25         14\n",
       "37         12\n",
       "27         10\n",
       "24          9\n",
       "26          9\n",
       "28          9\n",
       "31          8\n",
       "35          7\n",
       "40          6\n",
       "42          5\n",
       "32          5\n",
       "29          5\n",
       "34          5\n",
       "33          4\n",
       "46          4\n",
       "38          4\n",
       "44          3\n",
       "41          3\n",
       "49          3\n",
       "30          3\n",
       "54          2\n",
       "39          2\n",
       "36          2\n",
       "51          2\n",
       "58          1\n",
       "55          1\n",
       "45          1\n",
       "53          1\n",
       "48          1\n",
       "67          1\n",
       "62          1\n",
       "60          1\n",
       "61          1\n",
       "Name: count, dtype: int64"
      ]
     },
     "execution_count": 45,
     "metadata": {},
     "output_type": "execute_result"
    }
   ],
   "source": [
    "base.qtde_feridosilesos.value_counts()"
   ]
  },
  {
   "cell_type": "code",
   "execution_count": 46,
   "id": "1e1bec7b-2a14-4c57-a534-03d5e14f8318",
   "metadata": {},
   "outputs": [
    {
     "data": {
      "text/plain": [
       "qtde_obitos\n",
       "0     4814392\n",
       "1      103074\n",
       "2        6674\n",
       "3         966\n",
       "4         308\n",
       "5         118\n",
       "6          37\n",
       "7          18\n",
       "8           6\n",
       "10          3\n",
       "12          2\n",
       "15          2\n",
       "11          1\n",
       "9           1\n",
       "42          1\n",
       "Name: count, dtype: int64"
      ]
     },
     "execution_count": 46,
     "metadata": {},
     "output_type": "execute_result"
    }
   ],
   "source": [
    "base.qtde_obitos.value_counts()"
   ]
  }
 ],
 "metadata": {
  "kernelspec": {
   "display_name": "Python 3 (ipykernel)",
   "language": "python",
   "name": "python3"
  },
  "language_info": {
   "codemirror_mode": {
    "name": "ipython",
    "version": 3
   },
   "file_extension": ".py",
   "mimetype": "text/x-python",
   "name": "python",
   "nbconvert_exporter": "python",
   "pygments_lexer": "ipython3",
   "version": "3.11.7"
  }
 },
 "nbformat": 4,
 "nbformat_minor": 5
}
