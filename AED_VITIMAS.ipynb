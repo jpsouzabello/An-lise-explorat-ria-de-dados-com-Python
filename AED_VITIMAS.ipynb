{
 "cells": [
  {
   "cell_type": "code",
   "execution_count": 1,
   "id": "4090f8fd-0598-49d7-8fd8-e28be417038b",
   "metadata": {},
   "outputs": [],
   "source": [
    "import pandas as pd\n",
    "import datetime as dt\n",
    "\n",
    "base = pd.read_csv(\"C:\\\\Users\\\\jpvch\\\\Vitimas_DadosAbertos_20230912.csv\", delimiter = \";\")"
   ]
  },
  {
   "cell_type": "code",
   "execution_count": 2,
   "id": "1029ee6a-ccaa-4e43-bcaa-657bcdc89d76",
   "metadata": {},
   "outputs": [
    {
     "data": {
      "text/html": [
       "<div>\n",
       "<style scoped>\n",
       "    .dataframe tbody tr th:only-of-type {\n",
       "        vertical-align: middle;\n",
       "    }\n",
       "\n",
       "    .dataframe tbody tr th {\n",
       "        vertical-align: top;\n",
       "    }\n",
       "\n",
       "    .dataframe thead th {\n",
       "        text-align: right;\n",
       "    }\n",
       "</style>\n",
       "<table border=\"1\" class=\"dataframe\">\n",
       "  <thead>\n",
       "    <tr style=\"text-align: right;\">\n",
       "      <th></th>\n",
       "      <th>num_acidente</th>\n",
       "      <th>chv_localidade</th>\n",
       "      <th>data_acidente</th>\n",
       "      <th>uf_acidente</th>\n",
       "      <th>ano_acidente</th>\n",
       "      <th>mes_acidente</th>\n",
       "      <th>mes_ano_acidente</th>\n",
       "      <th>faixa_idade</th>\n",
       "      <th>genero</th>\n",
       "      <th>tp_envolvido</th>\n",
       "      <th>gravidade_lesao</th>\n",
       "      <th>equip_seguranca</th>\n",
       "      <th>ind_motorista</th>\n",
       "      <th>susp_alcool</th>\n",
       "      <th>qtde_envolvidos</th>\n",
       "      <th>qtde_feridosilesos</th>\n",
       "      <th>qtde_obitos</th>\n",
       "    </tr>\n",
       "  </thead>\n",
       "  <tbody>\n",
       "    <tr>\n",
       "      <th>0</th>\n",
       "      <td>1003418</td>\n",
       "      <td>AC1200401201801</td>\n",
       "      <td>2018-01-27</td>\n",
       "      <td>AC</td>\n",
       "      <td>2018</td>\n",
       "      <td>1</td>\n",
       "      <td>12018</td>\n",
       "      <td>ENTRE 40 E 44 ANOS</td>\n",
       "      <td>MASCULINO</td>\n",
       "      <td>MOTORISTA</td>\n",
       "      <td>NAO INFORMADO</td>\n",
       "      <td>NAO INFORMADO</td>\n",
       "      <td>SIM</td>\n",
       "      <td>NAO INFORMADO</td>\n",
       "      <td>1</td>\n",
       "      <td>1</td>\n",
       "      <td>0</td>\n",
       "    </tr>\n",
       "    <tr>\n",
       "      <th>1</th>\n",
       "      <td>1473559</td>\n",
       "      <td>AC1200401201801</td>\n",
       "      <td>2018-01-31</td>\n",
       "      <td>AC</td>\n",
       "      <td>2018</td>\n",
       "      <td>1</td>\n",
       "      <td>12018</td>\n",
       "      <td>ENTRE 25 E 29 ANOS</td>\n",
       "      <td>MASCULINO</td>\n",
       "      <td>MOTORISTA</td>\n",
       "      <td>NAO INFORMADO</td>\n",
       "      <td>NAO INFORMADO</td>\n",
       "      <td>SIM</td>\n",
       "      <td>NAO INFORMADO</td>\n",
       "      <td>1</td>\n",
       "      <td>1</td>\n",
       "      <td>0</td>\n",
       "    </tr>\n",
       "    <tr>\n",
       "      <th>2</th>\n",
       "      <td>254169</td>\n",
       "      <td>AC1200401201801</td>\n",
       "      <td>2018-01-26</td>\n",
       "      <td>AC</td>\n",
       "      <td>2018</td>\n",
       "      <td>1</td>\n",
       "      <td>12018</td>\n",
       "      <td>ENTRE 25 E 29 ANOS</td>\n",
       "      <td>MASCULINO</td>\n",
       "      <td>MOTORISTA</td>\n",
       "      <td>NAO INFORMADO</td>\n",
       "      <td>NAO INFORMADO</td>\n",
       "      <td>SIM</td>\n",
       "      <td>NAO INFORMADO</td>\n",
       "      <td>1</td>\n",
       "      <td>1</td>\n",
       "      <td>0</td>\n",
       "    </tr>\n",
       "    <tr>\n",
       "      <th>3</th>\n",
       "      <td>352762</td>\n",
       "      <td>AC1200401201801</td>\n",
       "      <td>2018-01-16</td>\n",
       "      <td>AC</td>\n",
       "      <td>2018</td>\n",
       "      <td>1</td>\n",
       "      <td>12018</td>\n",
       "      <td>ENTRE 25 E 29 ANOS</td>\n",
       "      <td>MASCULINO</td>\n",
       "      <td>MOTORISTA</td>\n",
       "      <td>NAO INFORMADO</td>\n",
       "      <td>NAO INFORMADO</td>\n",
       "      <td>SIM</td>\n",
       "      <td>NAO INFORMADO</td>\n",
       "      <td>1</td>\n",
       "      <td>1</td>\n",
       "      <td>0</td>\n",
       "    </tr>\n",
       "    <tr>\n",
       "      <th>4</th>\n",
       "      <td>3248613</td>\n",
       "      <td>AC1200401201801</td>\n",
       "      <td>2018-01-14</td>\n",
       "      <td>AC</td>\n",
       "      <td>2018</td>\n",
       "      <td>1</td>\n",
       "      <td>12018</td>\n",
       "      <td>ENTRE 25 E 29 ANOS</td>\n",
       "      <td>MASCULINO</td>\n",
       "      <td>MOTORISTA</td>\n",
       "      <td>NAO INFORMADO</td>\n",
       "      <td>NAO INFORMADO</td>\n",
       "      <td>SIM</td>\n",
       "      <td>NAO INFORMADO</td>\n",
       "      <td>1</td>\n",
       "      <td>1</td>\n",
       "      <td>0</td>\n",
       "    </tr>\n",
       "  </tbody>\n",
       "</table>\n",
       "</div>"
      ],
      "text/plain": [
       "   num_acidente   chv_localidade data_acidente uf_acidente  ano_acidente  \\\n",
       "0       1003418  AC1200401201801    2018-01-27          AC          2018   \n",
       "1       1473559  AC1200401201801    2018-01-31          AC          2018   \n",
       "2        254169  AC1200401201801    2018-01-26          AC          2018   \n",
       "3        352762  AC1200401201801    2018-01-16          AC          2018   \n",
       "4       3248613  AC1200401201801    2018-01-14          AC          2018   \n",
       "\n",
       "   mes_acidente  mes_ano_acidente         faixa_idade     genero tp_envolvido  \\\n",
       "0             1             12018  ENTRE 40 E 44 ANOS  MASCULINO    MOTORISTA   \n",
       "1             1             12018  ENTRE 25 E 29 ANOS  MASCULINO    MOTORISTA   \n",
       "2             1             12018  ENTRE 25 E 29 ANOS  MASCULINO    MOTORISTA   \n",
       "3             1             12018  ENTRE 25 E 29 ANOS  MASCULINO    MOTORISTA   \n",
       "4             1             12018  ENTRE 25 E 29 ANOS  MASCULINO    MOTORISTA   \n",
       "\n",
       "  gravidade_lesao equip_seguranca ind_motorista    susp_alcool  \\\n",
       "0   NAO INFORMADO   NAO INFORMADO           SIM  NAO INFORMADO   \n",
       "1   NAO INFORMADO   NAO INFORMADO           SIM  NAO INFORMADO   \n",
       "2   NAO INFORMADO   NAO INFORMADO           SIM  NAO INFORMADO   \n",
       "3   NAO INFORMADO   NAO INFORMADO           SIM  NAO INFORMADO   \n",
       "4   NAO INFORMADO   NAO INFORMADO           SIM  NAO INFORMADO   \n",
       "\n",
       "   qtde_envolvidos  qtde_feridosilesos  qtde_obitos  \n",
       "0                1                   1            0  \n",
       "1                1                   1            0  \n",
       "2                1                   1            0  \n",
       "3                1                   1            0  \n",
       "4                1                   1            0  "
      ]
     },
     "execution_count": 2,
     "metadata": {},
     "output_type": "execute_result"
    }
   ],
   "source": [
    "base.head()"
   ]
  },
  {
   "cell_type": "code",
   "execution_count": 3,
   "id": "4f195fcf-431c-4c27-ae25-eb284918ef7b",
   "metadata": {},
   "outputs": [
    {
     "data": {
      "text/html": [
       "<div>\n",
       "<style scoped>\n",
       "    .dataframe tbody tr th:only-of-type {\n",
       "        vertical-align: middle;\n",
       "    }\n",
       "\n",
       "    .dataframe tbody tr th {\n",
       "        vertical-align: top;\n",
       "    }\n",
       "\n",
       "    .dataframe thead th {\n",
       "        text-align: right;\n",
       "    }\n",
       "</style>\n",
       "<table border=\"1\" class=\"dataframe\">\n",
       "  <thead>\n",
       "    <tr style=\"text-align: right;\">\n",
       "      <th></th>\n",
       "      <th>num_acidente</th>\n",
       "      <th>chv_localidade</th>\n",
       "      <th>data_acidente</th>\n",
       "      <th>uf_acidente</th>\n",
       "      <th>ano_acidente</th>\n",
       "      <th>mes_acidente</th>\n",
       "      <th>mes_ano_acidente</th>\n",
       "      <th>faixa_idade</th>\n",
       "      <th>genero</th>\n",
       "      <th>tp_envolvido</th>\n",
       "      <th>gravidade_lesao</th>\n",
       "      <th>equip_seguranca</th>\n",
       "      <th>ind_motorista</th>\n",
       "      <th>susp_alcool</th>\n",
       "      <th>qtde_envolvidos</th>\n",
       "      <th>qtde_feridosilesos</th>\n",
       "      <th>qtde_obitos</th>\n",
       "    </tr>\n",
       "  </thead>\n",
       "  <tbody>\n",
       "    <tr>\n",
       "      <th>7835124</th>\n",
       "      <td>809551</td>\n",
       "      <td>TO1721208202305</td>\n",
       "      <td>2023-05-28</td>\n",
       "      <td>TO</td>\n",
       "      <td>2023</td>\n",
       "      <td>5</td>\n",
       "      <td>52023</td>\n",
       "      <td>ENTRE 18 E 24 ANOS</td>\n",
       "      <td>MASCULINO</td>\n",
       "      <td>MOTORISTA</td>\n",
       "      <td>GRAVE</td>\n",
       "      <td>NAO INFORMADO</td>\n",
       "      <td>SIM</td>\n",
       "      <td>NAO INFORMADO</td>\n",
       "      <td>1</td>\n",
       "      <td>1</td>\n",
       "      <td>0</td>\n",
       "    </tr>\n",
       "    <tr>\n",
       "      <th>7835125</th>\n",
       "      <td>2146372</td>\n",
       "      <td>TO1720655202305</td>\n",
       "      <td>2023-05-01</td>\n",
       "      <td>TO</td>\n",
       "      <td>2023</td>\n",
       "      <td>5</td>\n",
       "      <td>52023</td>\n",
       "      <td>ENTRE 18 E 24 ANOS</td>\n",
       "      <td>MASCULINO</td>\n",
       "      <td>MOTORISTA</td>\n",
       "      <td>LEVE</td>\n",
       "      <td>NAO INFORMADO</td>\n",
       "      <td>SIM</td>\n",
       "      <td>NAO INFORMADO</td>\n",
       "      <td>1</td>\n",
       "      <td>1</td>\n",
       "      <td>0</td>\n",
       "    </tr>\n",
       "    <tr>\n",
       "      <th>7835126</th>\n",
       "      <td>5002149</td>\n",
       "      <td>TO1716109202305</td>\n",
       "      <td>2023-05-01</td>\n",
       "      <td>TO</td>\n",
       "      <td>2023</td>\n",
       "      <td>5</td>\n",
       "      <td>52023</td>\n",
       "      <td>ENTRE 65 E 69 ANOS</td>\n",
       "      <td>MASCULINO</td>\n",
       "      <td>MOTORISTA</td>\n",
       "      <td>SEM FERIMENTO</td>\n",
       "      <td>NAO INFORMADO</td>\n",
       "      <td>SIM</td>\n",
       "      <td>NAO INFORMADO</td>\n",
       "      <td>1</td>\n",
       "      <td>1</td>\n",
       "      <td>0</td>\n",
       "    </tr>\n",
       "    <tr>\n",
       "      <th>7835127</th>\n",
       "      <td>2837727</td>\n",
       "      <td>TO1716703202305</td>\n",
       "      <td>2023-05-24</td>\n",
       "      <td>TO</td>\n",
       "      <td>2023</td>\n",
       "      <td>5</td>\n",
       "      <td>52023</td>\n",
       "      <td>ENTRE 45 E 49 ANOS</td>\n",
       "      <td>MASCULINO</td>\n",
       "      <td>MOTORISTA</td>\n",
       "      <td>SEM FERIMENTO</td>\n",
       "      <td>NAO INFORMADO</td>\n",
       "      <td>SIM</td>\n",
       "      <td>NAO INFORMADO</td>\n",
       "      <td>1</td>\n",
       "      <td>1</td>\n",
       "      <td>0</td>\n",
       "    </tr>\n",
       "    <tr>\n",
       "      <th>7835128</th>\n",
       "      <td>3748607</td>\n",
       "      <td>TO1718204202305</td>\n",
       "      <td>2023-05-20</td>\n",
       "      <td>TO</td>\n",
       "      <td>2023</td>\n",
       "      <td>5</td>\n",
       "      <td>52023</td>\n",
       "      <td>ENTRE 65 E 69 ANOS</td>\n",
       "      <td>MASCULINO</td>\n",
       "      <td>MOTORISTA</td>\n",
       "      <td>SEM FERIMENTO</td>\n",
       "      <td>NAO INFORMADO</td>\n",
       "      <td>SIM</td>\n",
       "      <td>NAO INFORMADO</td>\n",
       "      <td>1</td>\n",
       "      <td>1</td>\n",
       "      <td>0</td>\n",
       "    </tr>\n",
       "  </tbody>\n",
       "</table>\n",
       "</div>"
      ],
      "text/plain": [
       "         num_acidente   chv_localidade data_acidente uf_acidente  \\\n",
       "7835124        809551  TO1721208202305    2023-05-28          TO   \n",
       "7835125       2146372  TO1720655202305    2023-05-01          TO   \n",
       "7835126       5002149  TO1716109202305    2023-05-01          TO   \n",
       "7835127       2837727  TO1716703202305    2023-05-24          TO   \n",
       "7835128       3748607  TO1718204202305    2023-05-20          TO   \n",
       "\n",
       "         ano_acidente  mes_acidente  mes_ano_acidente         faixa_idade  \\\n",
       "7835124          2023             5             52023  ENTRE 18 E 24 ANOS   \n",
       "7835125          2023             5             52023  ENTRE 18 E 24 ANOS   \n",
       "7835126          2023             5             52023  ENTRE 65 E 69 ANOS   \n",
       "7835127          2023             5             52023  ENTRE 45 E 49 ANOS   \n",
       "7835128          2023             5             52023  ENTRE 65 E 69 ANOS   \n",
       "\n",
       "            genero tp_envolvido gravidade_lesao equip_seguranca ind_motorista  \\\n",
       "7835124  MASCULINO    MOTORISTA           GRAVE   NAO INFORMADO           SIM   \n",
       "7835125  MASCULINO    MOTORISTA            LEVE   NAO INFORMADO           SIM   \n",
       "7835126  MASCULINO    MOTORISTA   SEM FERIMENTO   NAO INFORMADO           SIM   \n",
       "7835127  MASCULINO    MOTORISTA   SEM FERIMENTO   NAO INFORMADO           SIM   \n",
       "7835128  MASCULINO    MOTORISTA   SEM FERIMENTO   NAO INFORMADO           SIM   \n",
       "\n",
       "           susp_alcool  qtde_envolvidos  qtde_feridosilesos  qtde_obitos  \n",
       "7835124  NAO INFORMADO                1                   1            0  \n",
       "7835125  NAO INFORMADO                1                   1            0  \n",
       "7835126  NAO INFORMADO                1                   1            0  \n",
       "7835127  NAO INFORMADO                1                   1            0  \n",
       "7835128  NAO INFORMADO                1                   1            0  "
      ]
     },
     "execution_count": 3,
     "metadata": {},
     "output_type": "execute_result"
    }
   ],
   "source": [
    "base.tail()"
   ]
  },
  {
   "cell_type": "code",
   "execution_count": 4,
   "id": "3732162b-c29f-49b3-a550-5bcd119ec44c",
   "metadata": {},
   "outputs": [
    {
     "data": {
      "text/plain": [
       "(7835129, 17)"
      ]
     },
     "execution_count": 4,
     "metadata": {},
     "output_type": "execute_result"
    }
   ],
   "source": [
    "base.shape"
   ]
  },
  {
   "cell_type": "code",
   "execution_count": 5,
   "id": "45c5fd33-d4fb-48a3-84d6-6b342268ed31",
   "metadata": {},
   "outputs": [
    {
     "name": "stdout",
     "output_type": "stream",
     "text": [
      "2018-01-01\n"
     ]
    }
   ],
   "source": [
    "inicio = pd.to_datetime(base['data_acidente']).dt.date.min()\n",
    "print(inicio)"
   ]
  },
  {
   "cell_type": "code",
   "execution_count": 6,
   "id": "838bdc78-cbb0-4c67-873e-5b1fb19cc06f",
   "metadata": {},
   "outputs": [
    {
     "name": "stdout",
     "output_type": "stream",
     "text": [
      "2023-05-31\n"
     ]
    }
   ],
   "source": [
    "fim = pd.to_datetime(base['data_acidente']).dt.date.max()\n",
    "print(fim)"
   ]
  },
  {
   "cell_type": "code",
   "execution_count": 7,
   "id": "43d85a1b-e3cf-4770-a2a4-9fb2f804b43c",
   "metadata": {},
   "outputs": [
    {
     "name": "stdout",
     "output_type": "stream",
     "text": [
      "<class 'pandas.core.frame.DataFrame'>\n",
      "RangeIndex: 7835129 entries, 0 to 7835128\n",
      "Data columns (total 17 columns):\n",
      " #   Column              Dtype \n",
      "---  ------              ----- \n",
      " 0   num_acidente        int64 \n",
      " 1   chv_localidade      object\n",
      " 2   data_acidente       object\n",
      " 3   uf_acidente         object\n",
      " 4   ano_acidente        int64 \n",
      " 5   mes_acidente        int64 \n",
      " 6   mes_ano_acidente    int64 \n",
      " 7   faixa_idade         object\n",
      " 8   genero              object\n",
      " 9   tp_envolvido        object\n",
      " 10  gravidade_lesao     object\n",
      " 11  equip_seguranca     object\n",
      " 12  ind_motorista       object\n",
      " 13  susp_alcool         object\n",
      " 14  qtde_envolvidos     int64 \n",
      " 15  qtde_feridosilesos  int64 \n",
      " 16  qtde_obitos         int64 \n",
      "dtypes: int64(7), object(10)\n",
      "memory usage: 1016.2+ MB\n"
     ]
    }
   ],
   "source": [
    "base.info()"
   ]
  },
  {
   "cell_type": "code",
   "execution_count": 8,
   "id": "7141ab4f-ddd4-4e95-aeb6-791f4cb1b9c0",
   "metadata": {},
   "outputs": [
    {
     "data": {
      "text/plain": [
       "num_acidente          0\n",
       "chv_localidade        0\n",
       "data_acidente         0\n",
       "uf_acidente           0\n",
       "ano_acidente          0\n",
       "mes_acidente          0\n",
       "mes_ano_acidente      0\n",
       "faixa_idade           0\n",
       "genero                0\n",
       "tp_envolvido          0\n",
       "gravidade_lesao       0\n",
       "equip_seguranca       0\n",
       "ind_motorista         0\n",
       "susp_alcool           0\n",
       "qtde_envolvidos       0\n",
       "qtde_feridosilesos    0\n",
       "qtde_obitos           0\n",
       "dtype: int64"
      ]
     },
     "execution_count": 8,
     "metadata": {},
     "output_type": "execute_result"
    }
   ],
   "source": [
    "base.isnull().sum()"
   ]
  },
  {
   "cell_type": "code",
   "execution_count": 11,
   "id": "27a9a5ef-21aa-479b-819c-0e768e28b9f8",
   "metadata": {},
   "outputs": [
    {
     "name": "stdout",
     "output_type": "stream",
     "text": [
      "       ano_acidente  mes_acidente  qtde_envolvidos  qtde_feridosilesos  \\\n",
      "count  7.835129e+06  7.835129e+06     7.835129e+06        7.835129e+06   \n",
      "mean   2.020315e+03  6.455787e+00     9.991599e-01        9.836294e-01   \n",
      "std    1.486797e+00  3.467525e+00     3.549357e-01        3.739314e-01   \n",
      "min    2.018000e+03  1.000000e+00     0.000000e+00        0.000000e+00   \n",
      "25%    2.019000e+03  3.000000e+00     1.000000e+00        1.000000e+00   \n",
      "50%    2.020000e+03  6.000000e+00     1.000000e+00        1.000000e+00   \n",
      "75%    2.022000e+03  1.000000e+01     1.000000e+00        1.000000e+00   \n",
      "max    2.023000e+03  1.200000e+01     5.400000e+01        5.400000e+01   \n",
      "\n",
      "        qtde_obitos  \n",
      "count  7.835129e+06  \n",
      "mean   1.553057e-02  \n",
      "std    1.270308e-01  \n",
      "min    0.000000e+00  \n",
      "25%    0.000000e+00  \n",
      "50%    0.000000e+00  \n",
      "75%    0.000000e+00  \n",
      "max    1.100000e+01  \n"
     ]
    }
   ],
   "source": [
    "colunas_categoricas = ['ano_acidente', 'mes_acidente', 'qtde_envolvidos', 'qtde_feridosilesos', 'qtde_obitos']\n",
    "estatisticas = base[colunas_categoricas].describe()\n",
    "print(estatisticas)"
   ]
  },
  {
   "cell_type": "code",
   "execution_count": 12,
   "id": "9a3e2bc0-73a0-43d1-a136-34158a26b3d9",
   "metadata": {},
   "outputs": [
    {
     "data": {
      "text/plain": [
       "data_acidente\n",
       "2021-05-07    6318\n",
       "2021-08-07    6294\n",
       "2021-08-06    6225\n",
       "2020-03-06    6200\n",
       "2021-07-09    6190\n",
       "              ... \n",
       "2020-03-26    1692\n",
       "2023-05-01    1654\n",
       "2020-03-24    1627\n",
       "2020-03-22    1523\n",
       "2018-05-27    1516\n",
       "Name: count, Length: 1977, dtype: int64"
      ]
     },
     "execution_count": 12,
     "metadata": {},
     "output_type": "execute_result"
    }
   ],
   "source": [
    "base.data_acidente.value_counts()"
   ]
  },
  {
   "cell_type": "code",
   "execution_count": 13,
   "id": "fa51e9b1-013c-448d-8473-0ec919c1ae68",
   "metadata": {},
   "outputs": [
    {
     "data": {
      "text/plain": [
       "uf_acidente\n",
       "MG    2313410\n",
       "SP    1155467\n",
       "PR     998278\n",
       "SC     903803\n",
       "GO     673206\n",
       "DF     320042\n",
       "ES     295430\n",
       "PA     162859\n",
       "MS     159434\n",
       "BA     117021\n",
       "CE     115406\n",
       "RJ     106582\n",
       "RO     106475\n",
       "PE      72875\n",
       "PI      62970\n",
       "RN      44751\n",
       "TO      43613\n",
       "AC      41221\n",
       "MT      29634\n",
       "RR      22373\n",
       "RS      15917\n",
       "PB      15839\n",
       "MA      15783\n",
       "AL      13188\n",
       "AP      12197\n",
       "AM      12006\n",
       "SE       5349\n",
       "Name: count, dtype: int64"
      ]
     },
     "execution_count": 13,
     "metadata": {},
     "output_type": "execute_result"
    }
   ],
   "source": [
    "base.uf_acidente.value_counts()"
   ]
  },
  {
   "cell_type": "code",
   "execution_count": 14,
   "id": "6198d978-4079-4ebf-8fc2-1ff411e290cb",
   "metadata": {},
   "outputs": [
    {
     "data": {
      "text/plain": [
       "ano_acidente\n",
       "2022    1646256\n",
       "2021    1634026\n",
       "2019    1579701\n",
       "2020    1445330\n",
       "2018    1094388\n",
       "2023     435428\n",
       "Name: count, dtype: int64"
      ]
     },
     "execution_count": 14,
     "metadata": {},
     "output_type": "execute_result"
    }
   ],
   "source": [
    "base.ano_acidente.value_counts()"
   ]
  },
  {
   "cell_type": "code",
   "execution_count": 15,
   "id": "9ab1521d-6ee9-42fb-996f-31a15006ca20",
   "metadata": {},
   "outputs": [
    {
     "data": {
      "text/plain": [
       "mes_acidente\n",
       "5     692814\n",
       "3     690546\n",
       "2     685856\n",
       "10    663813\n",
       "12    654680\n",
       "1     652622\n",
       "8     643644\n",
       "11    641496\n",
       "7     639659\n",
       "4     632393\n",
       "9     629720\n",
       "6     607886\n",
       "Name: count, dtype: int64"
      ]
     },
     "execution_count": 15,
     "metadata": {},
     "output_type": "execute_result"
    }
   ],
   "source": [
    "base.mes_acidente.value_counts()"
   ]
  },
  {
   "cell_type": "code",
   "execution_count": 16,
   "id": "9830cd1b-c5aa-433a-83e7-edf20f6ffb18",
   "metadata": {},
   "outputs": [
    {
     "data": {
      "text/plain": [
       "faixa_idade\n",
       "NAO INFORMADO         2322749\n",
       "ENTRE 30 E 34 ANOS     766027\n",
       "ENTRE 18 E 24 ANOS     762322\n",
       "ENTRE 25 E 29 ANOS     754745\n",
       "ENTRE 35 E 39 ANOS     748752\n",
       "ENTRE 40 E 44 ANOS     658150\n",
       "ENTRE 45 E 49 ANOS     503861\n",
       "ENTRE 50 E 54 ANOS     401438\n",
       "ENTRE 55 E 59 ANOS     314057\n",
       "ENTRE 60 E 64 ANOS     218436\n",
       "ENTRE 65 E 69 ANOS     139257\n",
       "ENTRE 1 E 17 ANOS       93887\n",
       "ENTRE 70 E 74 ANOS      80724\n",
       "ENTRE 75 E 79 ANOS      42016\n",
       "MAIOR QUE 80 ANOS       28708\n",
       "Name: count, dtype: int64"
      ]
     },
     "execution_count": 16,
     "metadata": {},
     "output_type": "execute_result"
    }
   ],
   "source": [
    "base.faixa_idade.value_counts()"
   ]
  },
  {
   "cell_type": "code",
   "execution_count": 17,
   "id": "9a3ba6ca-2961-4253-bbf8-9f3055061a23",
   "metadata": {},
   "outputs": [
    {
     "data": {
      "text/plain": [
       "genero\n",
       "MASCULINO        4954101\n",
       "FEMININO         1789764\n",
       "NAO INFORMADO     992217\n",
       "DESCONHECIDO       99047\n",
       "Name: count, dtype: int64"
      ]
     },
     "execution_count": 17,
     "metadata": {},
     "output_type": "execute_result"
    }
   ],
   "source": [
    "base.genero.value_counts()"
   ]
  },
  {
   "cell_type": "code",
   "execution_count": 18,
   "id": "71b76269-c89b-4309-b1fe-d13933674119",
   "metadata": {},
   "outputs": [
    {
     "data": {
      "text/plain": [
       "tp_envolvido\n",
       "MOTORISTA        4262437\n",
       "DESCONHECIDO     1537236\n",
       "NAO INFORMADO    1245064\n",
       "OUTRO             387477\n",
       "PASSAGEIROS       318711\n",
       "PEDESTRE           84204\n",
       "Name: count, dtype: int64"
      ]
     },
     "execution_count": 18,
     "metadata": {},
     "output_type": "execute_result"
    }
   ],
   "source": [
    "base.tp_envolvido.value_counts()"
   ]
  },
  {
   "cell_type": "code",
   "execution_count": 19,
   "id": "e9b7b212-cb80-4ecc-b3f9-096ab2fb1bb8",
   "metadata": {},
   "outputs": [
    {
     "data": {
      "text/plain": [
       "qtde_envolvidos\n",
       "1     7014506\n",
       "0      430846\n",
       "2      365031\n",
       "3       19777\n",
       "4        3322\n",
       "5         790\n",
       "6         365\n",
       "7         128\n",
       "8          90\n",
       "9          76\n",
       "10         38\n",
       "11         33\n",
       "12         33\n",
       "14         17\n",
       "13         16\n",
       "15          9\n",
       "17          7\n",
       "20          6\n",
       "19          6\n",
       "21          5\n",
       "18          4\n",
       "16          4\n",
       "22          3\n",
       "26          3\n",
       "24          3\n",
       "25          2\n",
       "28          2\n",
       "54          2\n",
       "52          1\n",
       "37          1\n",
       "29          1\n",
       "27          1\n",
       "31          1\n",
       "Name: count, dtype: int64"
      ]
     },
     "execution_count": 19,
     "metadata": {},
     "output_type": "execute_result"
    }
   ],
   "source": [
    "base.qtde_envolvidos.value_counts()"
   ]
  },
  {
   "cell_type": "code",
   "execution_count": 22,
   "id": "e386ed22-de52-4768-b14d-4734ea84fab2",
   "metadata": {},
   "outputs": [
    {
     "data": {
      "text/plain": [
       "qtde_feridosilesos\n",
       "1     6900624\n",
       "0      548246\n",
       "2      362027\n",
       "3       19405\n",
       "4        3229\n",
       "5         771\n",
       "6         346\n",
       "7         125\n",
       "8          88\n",
       "9          73\n",
       "10         37\n",
       "12         33\n",
       "11         31\n",
       "14         17\n",
       "13         16\n",
       "15          9\n",
       "20          7\n",
       "17          7\n",
       "19          6\n",
       "21          4\n",
       "18          4\n",
       "16          4\n",
       "22          3\n",
       "26          3\n",
       "24          3\n",
       "25          2\n",
       "28          2\n",
       "54          2\n",
       "52          1\n",
       "37          1\n",
       "29          1\n",
       "27          1\n",
       "31          1\n",
       "Name: count, dtype: int64"
      ]
     },
     "execution_count": 22,
     "metadata": {},
     "output_type": "execute_result"
    }
   ],
   "source": [
    "base.qtde_feridosilesos.value_counts()"
   ]
  },
  {
   "cell_type": "code",
   "execution_count": 24,
   "id": "20eb3cd7-9073-474e-a05f-ce6cdfa5d87d",
   "metadata": {},
   "outputs": [
    {
     "data": {
      "text/plain": [
       "qtde_obitos\n",
       "0     7716091\n",
       "1      116791\n",
       "2        1971\n",
       "3         211\n",
       "4          45\n",
       "5           6\n",
       "6           6\n",
       "9           4\n",
       "11          2\n",
       "7           2\n",
       "Name: count, dtype: int64"
      ]
     },
     "execution_count": 24,
     "metadata": {},
     "output_type": "execute_result"
    }
   ],
   "source": [
    "base.qtde_obitos.value_counts()"
   ]
  }
 ],
 "metadata": {
  "kernelspec": {
   "display_name": "Python 3 (ipykernel)",
   "language": "python",
   "name": "python3"
  },
  "language_info": {
   "codemirror_mode": {
    "name": "ipython",
    "version": 3
   },
   "file_extension": ".py",
   "mimetype": "text/x-python",
   "name": "python",
   "nbconvert_exporter": "python",
   "pygments_lexer": "ipython3",
   "version": "3.11.7"
  }
 },
 "nbformat": 4,
 "nbformat_minor": 5
}
